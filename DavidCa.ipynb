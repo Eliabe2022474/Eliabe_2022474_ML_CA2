{
 "cells": [
  {
   "attachments": {
    "logo.png": {
     "image/png": "[encoded data removed]"
    }
   },
   "cell_type": "markdown",
   "id": "d0261d4e",
   "metadata": {},
   "source": [
    "![logo.png](attachment:logo.png)\n"
   ]
  },
  {
   "attachments": {
    "4729e638-ed4e-4ace-937a-16acfbd81059.png": {
     "image/png": "[encoded data removed]"
    }
   },
   "cell_type": "markdown",
   "id": "b5d48877-b4aa-4ca1-b4bd-a7fb39fe4539",
   "metadata": {},
   "source": [
    "![29.05.2024_17.50.22_REC.png](attachment:4729e638-ed4e-4ace-937a-16acfbd81059.png)"
   ]
  },
  {
   "cell_type": "markdown",
   "id": "7757c4f6",
   "metadata": {},
   "source": [
    "# Table of Contents\n",
    "\n",
    "- [Introduction](#Introduction) \n",
    "- [Checking Dataset](#Checking-Dataset) \n",
    "- [Checking Shape](#Checking-Shape) \n",
    "\n",
    "     - [](#) \n",
    "     - [Cleaning Dataset](#Cleaning-Dataset) \n",
    "     - [Checking Duplicated Rows](#Checking-Duplicated-Rows) \n",
    "     - [Dropping duplicated Rows](#Dropping-duplicated-Rows)\n",
    "     - [ Convert Categoricals](#Convert-Categoricals)\n",
    "     \n",
    "     - [Convert to Lower Case](#Convert-to-Lower-Case) \n",
    "     - [Remove Spaces](#Remove-Spaces) \n",
    "     - [Checking Null](#Checking-Null)\n",
    "     - [Indentify-Outliers](#Indentify-Outliers) \n",
    "     - [Histogram](#Histogram) \n",
    "     - [Define Columns Outliers](#Define-Columns-Outliers) \n",
    "     - [Eliminating Outliers](#Eliminating-Outliers)\n",
    "\n",
    "     - [](#) \n",
    "     - [Create a Validation Dataset](#Create-a-Validation-Dataset) \n",
    "     - [Target Variable](#Target-Variable) \n",
    "     - [Bulding Model ](#Bulding-Model ) \n",
    "     - [Calculate metrics for LSTM](#Calculate-metrics-for-LSTM) \n",
    "     - [Train Random Forest Regressor](#Train-Random-Forest-Regressor) \n",
    "     - [Evaluate-Models](#Evaluate-Model-RF) \n",
    "     - [](#)\n",
    " \n",
    "  - [Semantic Analysis](#Semantic-Analysis) \n",
    "     - [Data Preprocessing](#Data-Preprocessing) \n",
    "     - [Text Preprocessing](#Text-Preprocessing) \n",
    "     - [Apply Train Test Split](#Apply-Train-Test-Split) \n",
    "     - [Add different layers](#Add-different-layers) \n",
    "     - [Evaluation of Model](#Evaluation-of-Model)\n",
    "     - [onclusion](#onclusion) \n",
    "- [References](#References) 8\n"
   ]
  },
  {
   "cell_type": "markdown",
   "id": "bad8ff15",
   "metadata": {},
   "source": [
    "# Introduction"
   ]
  },
  {
   "cell_type": "raw",
   "id": "817c3c23-d7a5-4ccd-8ed3-12ce8edd9b03",
   "metadata": {},
   "source": [
    "  Neural Networks\n",
    "\n",
    "You are required to take data stored file “BankRecords.csv”, available on Moodle and process the data into a DataFrame. \n",
    "You are then required to train a Neural Network to predict the “Income(Thousands’)” of the customers, including tuning \n",
    "the network to achieve the best results.\n",
    "You must also compare your neural network to a standard ML regressor of your choosing and discuss your findings in the \n",
    "context of the problem at hand.\n",
    "\n",
    "Semantic Analysis\n",
    "\n",
    "You are required to source text data from any social media platform on any topic that you choose and perform semantic\n",
    "analysis on the text. This analysis should provide a visualization of  the overall sentiment of your text data , showing\n",
    "the positive, neutral, and negative sentiment expressed. You will require at least 1000 text observations.\n"
   ]
  },
  {
   "cell_type": "code",
   "execution_count": 66,
   "id": "cdd5520f",
   "metadata": {},
   "outputs": [],
   "source": [
    "\n",
    "from pandas import read_csv\n",
    "from pandas.plotting import scatter_matrix\n",
    "from matplotlib import pyplot\n",
    "from sklearn.model_selection import train_test_split\n",
    "from sklearn.model_selection import cross_val_score\n",
    "from sklearn.model_selection import StratifiedKFold\n",
    "from sklearn.ensemble import RandomForestClassifier\n",
    "from sklearn.linear_model import LogisticRegression\n",
    "from sklearn.tree import DecisionTreeClassifier\n",
    "from sklearn.neighbors import KNeighborsClassifier\n",
    "from sklearn.discriminant_analysis import LinearDiscriminantAnalysis\n",
    "from sklearn.naive_bayes import GaussianNB\n",
    "from sklearn.metrics import classification_report\n",
    "from sklearn.metrics import confusion_matrix\n",
    "from sklearn.metrics import accuracy_score\n",
    "from sklearn.svm import SVC\n",
    "import pandas as pd\n",
    "import numpy as np\n",
    "import seaborn as sns\n",
    "from sklearn import metrics\n",
    "import warnings\n",
    "warnings.filterwarnings(\"ignore\")"
   ]
  },
  {
   "cell_type": "markdown",
   "id": "c2fe718a",
   "metadata": {},
   "source": [
    "### Checking Dataset"
   ]
  },
  {
   "cell_type": "code",
   "execution_count": 88,
   "id": "043075dc",
   "metadata": {},
   "outputs": [
    {
     "data": {
      "text/html": [
       "<div>\n",
       "<style scoped>\n",
       "    .dataframe tbody tr th:only-of-type {\n",
       "        vertical-align: middle;\n",
       "    }\n",
       "\n",
       "    .dataframe tbody tr th {\n",
       "        vertical-align: top;\n",
       "    }\n",
       "\n",
       "    .dataframe thead th {\n",
       "        text-align: right;\n",
       "    }\n",
       "</style>\n",
       "<table border=\"1\" class=\"dataframe\">\n",
       "  <thead>\n",
       "    <tr style=\"text-align: right;\">\n",
       "      <th></th>\n",
       "      <th>ID</th>\n",
       "      <th>Age</th>\n",
       "      <th>Experience(Years)</th>\n",
       "      <th>Income(Thousands's)</th>\n",
       "      <th>Sort Code</th>\n",
       "      <th>Family</th>\n",
       "      <th>Credit Score</th>\n",
       "      <th>Education</th>\n",
       "      <th>Mortgage(Thousands's)</th>\n",
       "      <th>Personal Loan</th>\n",
       "      <th>Securities Account</th>\n",
       "      <th>CD Account</th>\n",
       "      <th>Online Banking</th>\n",
       "      <th>CreditCard</th>\n",
       "    </tr>\n",
       "  </thead>\n",
       "  <tbody>\n",
       "    <tr>\n",
       "      <th>0</th>\n",
       "      <td>1</td>\n",
       "      <td>25</td>\n",
       "      <td>1</td>\n",
       "      <td>49</td>\n",
       "      <td>91107</td>\n",
       "      <td>4</td>\n",
       "      <td>1.6</td>\n",
       "      <td>Diploma</td>\n",
       "      <td>0</td>\n",
       "      <td>No</td>\n",
       "      <td>Yes</td>\n",
       "      <td>No</td>\n",
       "      <td>No</td>\n",
       "      <td>No</td>\n",
       "    </tr>\n",
       "    <tr>\n",
       "      <th>1</th>\n",
       "      <td>2</td>\n",
       "      <td>45</td>\n",
       "      <td>19</td>\n",
       "      <td>34</td>\n",
       "      <td>90089</td>\n",
       "      <td>3</td>\n",
       "      <td>1.5</td>\n",
       "      <td>Diploma</td>\n",
       "      <td>0</td>\n",
       "      <td>No</td>\n",
       "      <td>Yes</td>\n",
       "      <td>No</td>\n",
       "      <td>No</td>\n",
       "      <td>No</td>\n",
       "    </tr>\n",
       "    <tr>\n",
       "      <th>2</th>\n",
       "      <td>3</td>\n",
       "      <td>39</td>\n",
       "      <td>15</td>\n",
       "      <td>11</td>\n",
       "      <td>94720</td>\n",
       "      <td>1</td>\n",
       "      <td>1.0</td>\n",
       "      <td>Diploma</td>\n",
       "      <td>0</td>\n",
       "      <td>No</td>\n",
       "      <td>No</td>\n",
       "      <td>No</td>\n",
       "      <td>No</td>\n",
       "      <td>No</td>\n",
       "    </tr>\n",
       "    <tr>\n",
       "      <th>3</th>\n",
       "      <td>4</td>\n",
       "      <td>35</td>\n",
       "      <td>9</td>\n",
       "      <td>100</td>\n",
       "      <td>94112</td>\n",
       "      <td>1</td>\n",
       "      <td>2.7</td>\n",
       "      <td>Degree</td>\n",
       "      <td>0</td>\n",
       "      <td>No</td>\n",
       "      <td>No</td>\n",
       "      <td>No</td>\n",
       "      <td>No</td>\n",
       "      <td>No</td>\n",
       "    </tr>\n",
       "    <tr>\n",
       "      <th>4</th>\n",
       "      <td>5</td>\n",
       "      <td>35</td>\n",
       "      <td>8</td>\n",
       "      <td>45</td>\n",
       "      <td>91330</td>\n",
       "      <td>4</td>\n",
       "      <td>1.0</td>\n",
       "      <td>Degree</td>\n",
       "      <td>0</td>\n",
       "      <td>No</td>\n",
       "      <td>No</td>\n",
       "      <td>No</td>\n",
       "      <td>No</td>\n",
       "      <td>Yes</td>\n",
       "    </tr>\n",
       "  </tbody>\n",
       "</table>\n",
       "</div>"
      ],
      "text/plain": [
       "   ID  Age  Experience(Years)  Income(Thousands's)  Sort Code  Family  \\\n",
       "0   1   25                  1                   49      91107       4   \n",
       "1   2   45                 19                   34      90089       3   \n",
       "2   3   39                 15                   11      94720       1   \n",
       "3   4   35                  9                  100      94112       1   \n",
       "4   5   35                  8                   45      91330       4   \n",
       "\n",
       "   Credit Score Education  Mortgage(Thousands's) Personal Loan  \\\n",
       "0           1.6   Diploma                      0            No   \n",
       "1           1.5   Diploma                      0            No   \n",
       "2           1.0   Diploma                      0            No   \n",
       "3           2.7    Degree                      0            No   \n",
       "4           1.0    Degree                      0            No   \n",
       "\n",
       "  Securities Account CD Account Online Banking CreditCard  \n",
       "0                Yes         No             No         No  \n",
       "1                Yes         No             No         No  \n",
       "2                 No         No             No         No  \n",
       "3                 No         No             No         No  \n",
       "4                 No         No             No        Yes  "
      ]
     },
     "execution_count": 88,
     "metadata": {},
     "output_type": "execute_result"
    }
   ],
   "source": [
    "df = pd.read_csv('BankRecords.csv')\n",
    "df.head()"
   ]
  },
  {
   "cell_type": "markdown",
   "id": "5c4775b5",
   "metadata": {},
   "source": [
    "### Checking Shape"
   ]
  },
  {
   "cell_type": "code",
   "execution_count": 89,
   "id": "79a17493",
   "metadata": {},
   "outputs": [
    {
     "data": {
      "text/plain": [
       "(5000, 14)"
      ]
     },
     "execution_count": 89,
     "metadata": {},
     "output_type": "execute_result"
    }
   ],
   "source": [
    "df.shape # First \"How many observations(rows) and how many features (columns)\""
   ]
  },
  {
   "cell_type": "markdown",
   "id": "92b3c308",
   "metadata": {},
   "source": [
    "Check data type of each feature"
   ]
  },
  {
   "cell_type": "code",
   "execution_count": 90,
   "id": "9b48c62c",
   "metadata": {},
   "outputs": [
    {
     "name": "stdout",
     "output_type": "stream",
     "text": [
      "<class 'pandas.core.frame.DataFrame'>\n",
      "RangeIndex: 5000 entries, 0 to 4999\n",
      "Data columns (total 14 columns):\n",
      " #   Column                 Non-Null Count  Dtype  \n",
      "---  ------                 --------------  -----  \n",
      " 0   ID                     5000 non-null   int64  \n",
      " 1   Age                    5000 non-null   int64  \n",
      " 2   Experience(Years)      5000 non-null   int64  \n",
      " 3   Income(Thousands's)    5000 non-null   int64  \n",
      " 4   Sort Code              5000 non-null   int64  \n",
      " 5   Family                 5000 non-null   int64  \n",
      " 6   Credit Score           5000 non-null   float64\n",
      " 7   Education              5000 non-null   object \n",
      " 8   Mortgage(Thousands's)  5000 non-null   int64  \n",
      " 9   Personal Loan          5000 non-null   object \n",
      " 10  Securities Account     5000 non-null   object \n",
      " 11  CD Account             5000 non-null   object \n",
      " 12  Online Banking         5000 non-null   object \n",
      " 13  CreditCard             5000 non-null   object \n",
      "dtypes: float64(1), int64(7), object(6)\n",
      "memory usage: 547.0+ KB\n"
     ]
    }
   ],
   "source": [
    "df.info()"
   ]
  },
  {
   "cell_type": "code",
   "execution_count": 91,
   "id": "da62e1b0",
   "metadata": {},
   "outputs": [
    {
     "data": {
      "text/html": [
       "<div>\n",
       "<style scoped>\n",
       "    .dataframe tbody tr th:only-of-type {\n",
       "        vertical-align: middle;\n",
       "    }\n",
       "\n",
       "    .dataframe tbody tr th {\n",
       "        vertical-align: top;\n",
       "    }\n",
       "\n",
       "    .dataframe thead th {\n",
       "        text-align: right;\n",
       "    }\n",
       "</style>\n",
       "<table border=\"1\" class=\"dataframe\">\n",
       "  <thead>\n",
       "    <tr style=\"text-align: right;\">\n",
       "      <th></th>\n",
       "      <th>ID</th>\n",
       "      <th>Age</th>\n",
       "      <th>Experience(Years)</th>\n",
       "      <th>Income(Thousands's)</th>\n",
       "      <th>Sort Code</th>\n",
       "      <th>Family</th>\n",
       "      <th>Credit Score</th>\n",
       "      <th>Mortgage(Thousands's)</th>\n",
       "    </tr>\n",
       "  </thead>\n",
       "  <tbody>\n",
       "    <tr>\n",
       "      <th>count</th>\n",
       "      <td>5000.000000</td>\n",
       "      <td>5000.000000</td>\n",
       "      <td>5000.000000</td>\n",
       "      <td>5000.000000</td>\n",
       "      <td>5000.000000</td>\n",
       "      <td>5000.000000</td>\n",
       "      <td>5000.000000</td>\n",
       "      <td>5000.000000</td>\n",
       "    </tr>\n",
       "    <tr>\n",
       "      <th>mean</th>\n",
       "      <td>2500.500000</td>\n",
       "      <td>45.338400</td>\n",
       "      <td>20.104600</td>\n",
       "      <td>73.774200</td>\n",
       "      <td>93152.503000</td>\n",
       "      <td>2.396400</td>\n",
       "      <td>1.937913</td>\n",
       "      <td>56.498800</td>\n",
       "    </tr>\n",
       "    <tr>\n",
       "      <th>std</th>\n",
       "      <td>1443.520003</td>\n",
       "      <td>11.463166</td>\n",
       "      <td>11.467954</td>\n",
       "      <td>46.033729</td>\n",
       "      <td>2121.852197</td>\n",
       "      <td>1.147663</td>\n",
       "      <td>1.747666</td>\n",
       "      <td>101.713802</td>\n",
       "    </tr>\n",
       "    <tr>\n",
       "      <th>min</th>\n",
       "      <td>1.000000</td>\n",
       "      <td>23.000000</td>\n",
       "      <td>-3.000000</td>\n",
       "      <td>8.000000</td>\n",
       "      <td>9307.000000</td>\n",
       "      <td>1.000000</td>\n",
       "      <td>0.000000</td>\n",
       "      <td>0.000000</td>\n",
       "    </tr>\n",
       "    <tr>\n",
       "      <th>25%</th>\n",
       "      <td>1250.750000</td>\n",
       "      <td>35.000000</td>\n",
       "      <td>10.000000</td>\n",
       "      <td>39.000000</td>\n",
       "      <td>91911.000000</td>\n",
       "      <td>1.000000</td>\n",
       "      <td>0.700000</td>\n",
       "      <td>0.000000</td>\n",
       "    </tr>\n",
       "    <tr>\n",
       "      <th>50%</th>\n",
       "      <td>2500.500000</td>\n",
       "      <td>45.000000</td>\n",
       "      <td>20.000000</td>\n",
       "      <td>64.000000</td>\n",
       "      <td>93437.000000</td>\n",
       "      <td>2.000000</td>\n",
       "      <td>1.500000</td>\n",
       "      <td>0.000000</td>\n",
       "    </tr>\n",
       "    <tr>\n",
       "      <th>75%</th>\n",
       "      <td>3750.250000</td>\n",
       "      <td>55.000000</td>\n",
       "      <td>30.000000</td>\n",
       "      <td>98.000000</td>\n",
       "      <td>94608.000000</td>\n",
       "      <td>3.000000</td>\n",
       "      <td>2.500000</td>\n",
       "      <td>101.000000</td>\n",
       "    </tr>\n",
       "    <tr>\n",
       "      <th>max</th>\n",
       "      <td>5000.000000</td>\n",
       "      <td>67.000000</td>\n",
       "      <td>43.000000</td>\n",
       "      <td>224.000000</td>\n",
       "      <td>96651.000000</td>\n",
       "      <td>4.000000</td>\n",
       "      <td>10.000000</td>\n",
       "      <td>635.000000</td>\n",
       "    </tr>\n",
       "  </tbody>\n",
       "</table>\n",
       "</div>"
      ],
      "text/plain": [
       "                ID          Age  Experience(Years)  Income(Thousands's)  \\\n",
       "count  5000.000000  5000.000000        5000.000000          5000.000000   \n",
       "mean   2500.500000    45.338400          20.104600            73.774200   \n",
       "std    1443.520003    11.463166          11.467954            46.033729   \n",
       "min       1.000000    23.000000          -3.000000             8.000000   \n",
       "25%    1250.750000    35.000000          10.000000            39.000000   \n",
       "50%    2500.500000    45.000000          20.000000            64.000000   \n",
       "75%    3750.250000    55.000000          30.000000            98.000000   \n",
       "max    5000.000000    67.000000          43.000000           224.000000   \n",
       "\n",
       "          Sort Code       Family  Credit Score  Mortgage(Thousands's)  \n",
       "count   5000.000000  5000.000000   5000.000000            5000.000000  \n",
       "mean   93152.503000     2.396400      1.937913              56.498800  \n",
       "std     2121.852197     1.147663      1.747666             101.713802  \n",
       "min     9307.000000     1.000000      0.000000               0.000000  \n",
       "25%    91911.000000     1.000000      0.700000               0.000000  \n",
       "50%    93437.000000     2.000000      1.500000               0.000000  \n",
       "75%    94608.000000     3.000000      2.500000             101.000000  \n",
       "max    96651.000000     4.000000     10.000000             635.000000  "
      ]
     },
     "execution_count": 91,
     "metadata": {},
     "output_type": "execute_result"
    }
   ],
   "source": [
    "df.describe()  "
   ]
  },
  {
   "cell_type": "markdown",
   "id": "55655f62",
   "metadata": {},
   "source": [
    "# Cleaning Dataset \n"
   ]
  },
  {
   "cell_type": "markdown",
   "id": "ea0683cc-5bd8-4f52-a31b-ec968d3a0faa",
   "metadata": {},
   "source": [
    "\"Data preparation and cleaning enhances dataset quality\" Kartikay Goyle (2023)\n",
    ".Thinking that, our approach begins with thorough data preprocessing, which \n",
    "involves addressing missing values, outliers, and inconsistencies to achieve our goals. "
   ]
  },
  {
   "cell_type": "raw",
   "id": "99a0fb2f",
   "metadata": {},
   "source": [
    "Clianng steps  \n",
    "|-------------------------------------|\n",
    "|  Irrelevant data -------------------|\n",
    "|  Duplicates ------------------------|\n",
    "|  Type conversion -------------------|\n",
    "|  Syntax errors  --------------------|\n",
    "|  Missing values  -------------------|\n",
    "|  Outliers --------------------------|\n",
    "|  Standardize -----------------------| \n",
    "|  Missing values  -------------------|\n",
    "|-------------------------------------|"
   ]
  },
  {
   "cell_type": "markdown",
   "id": "ff40ab2b",
   "metadata": {},
   "source": [
    "### Checking Duplicated Rows "
   ]
  },
  {
   "cell_type": "code",
   "execution_count": 92,
   "id": "0d5e0ba9",
   "metadata": {},
   "outputs": [
    {
     "name": "stdout",
     "output_type": "stream",
     "text": [
      "\n",
      "Duplicate Rows:\n",
      "Empty DataFrame\n",
      "Columns: [ID, Age, Experience(Years), Income(Thousands's), Sort Code, Family, Credit Score, Education, Mortgage(Thousands's), Personal Loan, Securities Account, CD Account, Online Banking, CreditCard]\n",
      "Index: []\n"
     ]
    },
    {
     "data": {
      "text/plain": [
       "(5000, 14)"
      ]
     },
     "execution_count": 92,
     "metadata": {},
     "output_type": "execute_result"
    }
   ],
   "source": [
    "duplicates = df.duplicated()\n",
    "print(\"\\nDuplicate Rows:\")\n",
    "print(df[duplicates])\n",
    "df.shape"
   ]
  },
  {
   "cell_type": "markdown",
   "id": "59dc3b3d",
   "metadata": {},
   "source": [
    "### Dropping duplicated Rows\n",
    "We do not need to drop , as there is not duplicatedes rows"
   ]
  },
  {
   "cell_type": "code",
   "execution_count": 93,
   "id": "911a48b2",
   "metadata": {},
   "outputs": [],
   "source": [
    "#df = df.drop_duplicates()\n",
    "#df"
   ]
  },
  {
   "cell_type": "markdown",
   "id": "ae78951c",
   "metadata": {},
   "source": [
    "### Convert Categoricals"
   ]
  },
  {
   "cell_type": "code",
   "execution_count": 94,
   "id": "116eeaa8",
   "metadata": {},
   "outputs": [
    {
     "data": {
      "text/html": [
       "<div>\n",
       "<style scoped>\n",
       "    .dataframe tbody tr th:only-of-type {\n",
       "        vertical-align: middle;\n",
       "    }\n",
       "\n",
       "    .dataframe tbody tr th {\n",
       "        vertical-align: top;\n",
       "    }\n",
       "\n",
       "    .dataframe thead th {\n",
       "        text-align: right;\n",
       "    }\n",
       "</style>\n",
       "<table border=\"1\" class=\"dataframe\">\n",
       "  <thead>\n",
       "    <tr style=\"text-align: right;\">\n",
       "      <th></th>\n",
       "      <th>ID</th>\n",
       "      <th>Age</th>\n",
       "      <th>Experience(Years)</th>\n",
       "      <th>Income(Thousands's)</th>\n",
       "      <th>Sort Code</th>\n",
       "      <th>Family</th>\n",
       "      <th>Credit Score</th>\n",
       "      <th>Education</th>\n",
       "      <th>Mortgage(Thousands's)</th>\n",
       "      <th>Personal Loan</th>\n",
       "      <th>Securities Account</th>\n",
       "      <th>CD Account</th>\n",
       "      <th>Online Banking</th>\n",
       "      <th>CreditCard</th>\n",
       "    </tr>\n",
       "  </thead>\n",
       "  <tbody>\n",
       "    <tr>\n",
       "      <th>0</th>\n",
       "      <td>1</td>\n",
       "      <td>25</td>\n",
       "      <td>1</td>\n",
       "      <td>49</td>\n",
       "      <td>91107</td>\n",
       "      <td>4</td>\n",
       "      <td>1.6</td>\n",
       "      <td>1</td>\n",
       "      <td>0</td>\n",
       "      <td>0</td>\n",
       "      <td>1</td>\n",
       "      <td>0</td>\n",
       "      <td>0</td>\n",
       "      <td>0</td>\n",
       "    </tr>\n",
       "    <tr>\n",
       "      <th>1</th>\n",
       "      <td>2</td>\n",
       "      <td>45</td>\n",
       "      <td>19</td>\n",
       "      <td>34</td>\n",
       "      <td>90089</td>\n",
       "      <td>3</td>\n",
       "      <td>1.5</td>\n",
       "      <td>1</td>\n",
       "      <td>0</td>\n",
       "      <td>0</td>\n",
       "      <td>1</td>\n",
       "      <td>0</td>\n",
       "      <td>0</td>\n",
       "      <td>0</td>\n",
       "    </tr>\n",
       "    <tr>\n",
       "      <th>2</th>\n",
       "      <td>3</td>\n",
       "      <td>39</td>\n",
       "      <td>15</td>\n",
       "      <td>11</td>\n",
       "      <td>94720</td>\n",
       "      <td>1</td>\n",
       "      <td>1.0</td>\n",
       "      <td>1</td>\n",
       "      <td>0</td>\n",
       "      <td>0</td>\n",
       "      <td>0</td>\n",
       "      <td>0</td>\n",
       "      <td>0</td>\n",
       "      <td>0</td>\n",
       "    </tr>\n",
       "    <tr>\n",
       "      <th>3</th>\n",
       "      <td>4</td>\n",
       "      <td>35</td>\n",
       "      <td>9</td>\n",
       "      <td>100</td>\n",
       "      <td>94112</td>\n",
       "      <td>1</td>\n",
       "      <td>2.7</td>\n",
       "      <td>0</td>\n",
       "      <td>0</td>\n",
       "      <td>0</td>\n",
       "      <td>0</td>\n",
       "      <td>0</td>\n",
       "      <td>0</td>\n",
       "      <td>0</td>\n",
       "    </tr>\n",
       "    <tr>\n",
       "      <th>4</th>\n",
       "      <td>5</td>\n",
       "      <td>35</td>\n",
       "      <td>8</td>\n",
       "      <td>45</td>\n",
       "      <td>91330</td>\n",
       "      <td>4</td>\n",
       "      <td>1.0</td>\n",
       "      <td>0</td>\n",
       "      <td>0</td>\n",
       "      <td>0</td>\n",
       "      <td>0</td>\n",
       "      <td>0</td>\n",
       "      <td>0</td>\n",
       "      <td>1</td>\n",
       "    </tr>\n",
       "  </tbody>\n",
       "</table>\n",
       "</div>"
      ],
      "text/plain": [
       "   ID  Age  Experience(Years)  Income(Thousands's)  Sort Code  Family  \\\n",
       "0   1   25                  1                   49      91107       4   \n",
       "1   2   45                 19                   34      90089       3   \n",
       "2   3   39                 15                   11      94720       1   \n",
       "3   4   35                  9                  100      94112       1   \n",
       "4   5   35                  8                   45      91330       4   \n",
       "\n",
       "   Credit Score  Education  Mortgage(Thousands's)  Personal Loan  \\\n",
       "0           1.6          1                      0              0   \n",
       "1           1.5          1                      0              0   \n",
       "2           1.0          1                      0              0   \n",
       "3           2.7          0                      0              0   \n",
       "4           1.0          0                      0              0   \n",
       "\n",
       "   Securities Account  CD Account  Online Banking  CreditCard  \n",
       "0                   1           0               0           0  \n",
       "1                   1           0               0           0  \n",
       "2                   0           0               0           0  \n",
       "3                   0           0               0           0  \n",
       "4                   0           0               0           1  "
      ]
     },
     "execution_count": 94,
     "metadata": {},
     "output_type": "execute_result"
    }
   ],
   "source": [
    "from sklearn.preprocessing import StandardScaler, LabelEncoder\n",
    "\n",
    "\n",
    "columns_to_convert = ['Personal Loan', 'Securities Account', 'CD Account', 'Online Banking', 'CreditCard']\n",
    "\n",
    "# Convert 'Yes'/'No' columns to numerical, assuming NaN means 'No' (0)\n",
    "for col in columns_to_convert:\n",
    "    df[col] = df[col].map({'Yes': 1, 'No': 0})\n",
    "    df[col].fillna(0, inplace=True)\n",
    "    df[col] = df[col].astype(int)\n",
    "\n",
    "# Encoding the 'Education' column\n",
    "le = LabelEncoder()\n",
    "df['Education'] = le.fit_transform(df['Education'])\n",
    "\n",
    "\n",
    "# Display the transformed DataFrame\n",
    "#df = pd.get_dummies(df, columns=['Education'])\n",
    "\n",
    "df.head()"
   ]
  },
  {
   "cell_type": "markdown",
   "id": "0aafdf55",
   "metadata": {},
   "source": [
    "### Convert to Lower Case\n",
    "Convert all string values to lower case"
   ]
  },
  {
   "cell_type": "code",
   "execution_count": 95,
   "id": "ccee14fb",
   "metadata": {},
   "outputs": [],
   "source": [
    "df.columns = df.columns.str.lower()\n"
   ]
  },
  {
   "cell_type": "markdown",
   "id": "1e04be8e",
   "metadata": {},
   "source": [
    "### Remove Spaces\n",
    "Remove extra white spaces from all string columns"
   ]
  },
  {
   "cell_type": "code",
   "execution_count": 96,
   "id": "15461f3d",
   "metadata": {},
   "outputs": [],
   "source": [
    "df = df.applymap(lambda x: x.strip() if isinstance(x, str) else x)\n"
   ]
  },
  {
   "cell_type": "markdown",
   "id": "fb9c8830",
   "metadata": {},
   "source": [
    "### Checking Null\n",
    "Checking any null/na in my data"
   ]
  },
  {
   "cell_type": "code",
   "execution_count": 97,
   "id": "f7f5c0b6",
   "metadata": {},
   "outputs": [
    {
     "data": {
      "text/plain": [
       "id                       0\n",
       "age                      0\n",
       "experience(years)        0\n",
       "income(thousands's)      0\n",
       "sort code                0\n",
       "family                   0\n",
       "credit score             0\n",
       "education                0\n",
       "mortgage(thousands's)    0\n",
       "personal loan            0\n",
       "securities account       0\n",
       "cd account               0\n",
       "online banking           0\n",
       "creditcard               0\n",
       "dtype: int64"
      ]
     },
     "execution_count": 97,
     "metadata": {},
     "output_type": "execute_result"
    }
   ],
   "source": [
    "df.isnull().sum()\n",
    "#df.fillna('')"
   ]
  },
  {
   "cell_type": "markdown",
   "id": "02db9fea",
   "metadata": {},
   "source": [
    "### Indentify Outliers"
   ]
  },
  {
   "cell_type": "markdown",
   "id": "826abab9",
   "metadata": {},
   "source": [
    "Check boxplot to see outliers "
   ]
  },
  {
   "cell_type": "code",
   "execution_count": 98,
   "id": "fca7c2c0",
   "metadata": {
    "scrolled": true
   },
   "outputs": [
    {
     "data": {
      "image/png": "[encoded data removed]",
      "text/plain": [
       "<Figure size 1600x1200 with 16 Axes>"
      ]
     },
     "metadata": {},
     "output_type": "display_data"
    },
    {
     "data": {
      "text/plain": [
       "(5000, 14)"
      ]
     },
     "execution_count": 98,
     "metadata": {},
     "output_type": "execute_result"
    }
   ],
   "source": [
    "import matplotlib.pyplot as plt\n",
    "df.groupby('age').size()\n",
    "# Plot the box plot with directly specified figure size\n",
    "df.plot(kind='box', subplots=True, layout=(4,4), sharex=False, sharey=False, figsize=(16, 12))\n",
    "\n",
    "# Show the plot\n",
    "plt.show()\n",
    "df.shape"
   ]
  },
  {
   "cell_type": "markdown",
   "id": "b75c1762",
   "metadata": {},
   "source": [
    "### Histogram\n",
    "Histogram of each input variable to see distribution"
   ]
  },
  {
   "cell_type": "code",
   "execution_count": 99,
   "id": "cd825692",
   "metadata": {},
   "outputs": [
    {
     "data": {
      "image/png": "[encoded data removed]",
      "text/plain": [
       "<Figure size 1600x1200 with 16 Axes>"
      ]
     },
     "metadata": {},
     "output_type": "display_data"
    }
   ],
   "source": [
    "fig, ax = plt.subplots(figsize=(16, 12))  # Adjust the width and height as needed\n",
    "\n",
    "# Plot the histogram\n",
    "df.hist(ax=ax)\n",
    "\n",
    "# Show the plot\n",
    "plt.show()"
   ]
  },
  {
   "cell_type": "code",
   "execution_count": 100,
   "id": "3854997f",
   "metadata": {},
   "outputs": [
    {
     "data": {
      "text/html": [
       "<div>\n",
       "<style scoped>\n",
       "    .dataframe tbody tr th:only-of-type {\n",
       "        vertical-align: middle;\n",
       "    }\n",
       "\n",
       "    .dataframe tbody tr th {\n",
       "        vertical-align: top;\n",
       "    }\n",
       "\n",
       "    .dataframe thead th {\n",
       "        text-align: right;\n",
       "    }\n",
       "</style>\n",
       "<table border=\"1\" class=\"dataframe\">\n",
       "  <thead>\n",
       "    <tr style=\"text-align: right;\">\n",
       "      <th></th>\n",
       "      <th>id</th>\n",
       "      <th>age</th>\n",
       "      <th>experience(years)</th>\n",
       "      <th>income(thousands's)</th>\n",
       "      <th>sort code</th>\n",
       "      <th>family</th>\n",
       "      <th>credit score</th>\n",
       "      <th>education</th>\n",
       "      <th>mortgage(thousands's)</th>\n",
       "      <th>personal loan</th>\n",
       "      <th>securities account</th>\n",
       "      <th>cd account</th>\n",
       "      <th>online banking</th>\n",
       "      <th>creditcard</th>\n",
       "    </tr>\n",
       "  </thead>\n",
       "  <tbody>\n",
       "    <tr>\n",
       "      <th>0</th>\n",
       "      <td>1</td>\n",
       "      <td>25</td>\n",
       "      <td>1</td>\n",
       "      <td>49</td>\n",
       "      <td>91107</td>\n",
       "      <td>4</td>\n",
       "      <td>1.6</td>\n",
       "      <td>1</td>\n",
       "      <td>0</td>\n",
       "      <td>0</td>\n",
       "      <td>1</td>\n",
       "      <td>0</td>\n",
       "      <td>0</td>\n",
       "      <td>0</td>\n",
       "    </tr>\n",
       "    <tr>\n",
       "      <th>1</th>\n",
       "      <td>2</td>\n",
       "      <td>45</td>\n",
       "      <td>19</td>\n",
       "      <td>34</td>\n",
       "      <td>90089</td>\n",
       "      <td>3</td>\n",
       "      <td>1.5</td>\n",
       "      <td>1</td>\n",
       "      <td>0</td>\n",
       "      <td>0</td>\n",
       "      <td>1</td>\n",
       "      <td>0</td>\n",
       "      <td>0</td>\n",
       "      <td>0</td>\n",
       "    </tr>\n",
       "    <tr>\n",
       "      <th>2</th>\n",
       "      <td>3</td>\n",
       "      <td>39</td>\n",
       "      <td>15</td>\n",
       "      <td>11</td>\n",
       "      <td>94720</td>\n",
       "      <td>1</td>\n",
       "      <td>1.0</td>\n",
       "      <td>1</td>\n",
       "      <td>0</td>\n",
       "      <td>0</td>\n",
       "      <td>0</td>\n",
       "      <td>0</td>\n",
       "      <td>0</td>\n",
       "      <td>0</td>\n",
       "    </tr>\n",
       "    <tr>\n",
       "      <th>3</th>\n",
       "      <td>4</td>\n",
       "      <td>35</td>\n",
       "      <td>9</td>\n",
       "      <td>100</td>\n",
       "      <td>94112</td>\n",
       "      <td>1</td>\n",
       "      <td>2.7</td>\n",
       "      <td>0</td>\n",
       "      <td>0</td>\n",
       "      <td>0</td>\n",
       "      <td>0</td>\n",
       "      <td>0</td>\n",
       "      <td>0</td>\n",
       "      <td>0</td>\n",
       "    </tr>\n",
       "    <tr>\n",
       "      <th>4</th>\n",
       "      <td>5</td>\n",
       "      <td>35</td>\n",
       "      <td>8</td>\n",
       "      <td>45</td>\n",
       "      <td>91330</td>\n",
       "      <td>4</td>\n",
       "      <td>1.0</td>\n",
       "      <td>0</td>\n",
       "      <td>0</td>\n",
       "      <td>0</td>\n",
       "      <td>0</td>\n",
       "      <td>0</td>\n",
       "      <td>0</td>\n",
       "      <td>1</td>\n",
       "    </tr>\n",
       "    <tr>\n",
       "      <th>...</th>\n",
       "      <td>...</td>\n",
       "      <td>...</td>\n",
       "      <td>...</td>\n",
       "      <td>...</td>\n",
       "      <td>...</td>\n",
       "      <td>...</td>\n",
       "      <td>...</td>\n",
       "      <td>...</td>\n",
       "      <td>...</td>\n",
       "      <td>...</td>\n",
       "      <td>...</td>\n",
       "      <td>...</td>\n",
       "      <td>...</td>\n",
       "      <td>...</td>\n",
       "    </tr>\n",
       "    <tr>\n",
       "      <th>4995</th>\n",
       "      <td>4996</td>\n",
       "      <td>29</td>\n",
       "      <td>3</td>\n",
       "      <td>40</td>\n",
       "      <td>92697</td>\n",
       "      <td>1</td>\n",
       "      <td>1.9</td>\n",
       "      <td>2</td>\n",
       "      <td>0</td>\n",
       "      <td>0</td>\n",
       "      <td>0</td>\n",
       "      <td>0</td>\n",
       "      <td>1</td>\n",
       "      <td>0</td>\n",
       "    </tr>\n",
       "    <tr>\n",
       "      <th>4996</th>\n",
       "      <td>4997</td>\n",
       "      <td>30</td>\n",
       "      <td>4</td>\n",
       "      <td>15</td>\n",
       "      <td>92037</td>\n",
       "      <td>4</td>\n",
       "      <td>0.4</td>\n",
       "      <td>1</td>\n",
       "      <td>85</td>\n",
       "      <td>0</td>\n",
       "      <td>0</td>\n",
       "      <td>0</td>\n",
       "      <td>1</td>\n",
       "      <td>0</td>\n",
       "    </tr>\n",
       "    <tr>\n",
       "      <th>4997</th>\n",
       "      <td>4998</td>\n",
       "      <td>63</td>\n",
       "      <td>39</td>\n",
       "      <td>24</td>\n",
       "      <td>93023</td>\n",
       "      <td>2</td>\n",
       "      <td>0.3</td>\n",
       "      <td>2</td>\n",
       "      <td>0</td>\n",
       "      <td>0</td>\n",
       "      <td>0</td>\n",
       "      <td>0</td>\n",
       "      <td>0</td>\n",
       "      <td>0</td>\n",
       "    </tr>\n",
       "    <tr>\n",
       "      <th>4998</th>\n",
       "      <td>4999</td>\n",
       "      <td>65</td>\n",
       "      <td>40</td>\n",
       "      <td>49</td>\n",
       "      <td>90034</td>\n",
       "      <td>3</td>\n",
       "      <td>0.5</td>\n",
       "      <td>0</td>\n",
       "      <td>0</td>\n",
       "      <td>0</td>\n",
       "      <td>0</td>\n",
       "      <td>0</td>\n",
       "      <td>1</td>\n",
       "      <td>0</td>\n",
       "    </tr>\n",
       "    <tr>\n",
       "      <th>4999</th>\n",
       "      <td>5000</td>\n",
       "      <td>28</td>\n",
       "      <td>4</td>\n",
       "      <td>83</td>\n",
       "      <td>92612</td>\n",
       "      <td>3</td>\n",
       "      <td>0.8</td>\n",
       "      <td>1</td>\n",
       "      <td>0</td>\n",
       "      <td>0</td>\n",
       "      <td>0</td>\n",
       "      <td>0</td>\n",
       "      <td>1</td>\n",
       "      <td>1</td>\n",
       "    </tr>\n",
       "  </tbody>\n",
       "</table>\n",
       "<p>5000 rows × 14 columns</p>\n",
       "</div>"
      ],
      "text/plain": [
       "        id  age  experience(years)  income(thousands's)  sort code  family  \\\n",
       "0        1   25                  1                   49      91107       4   \n",
       "1        2   45                 19                   34      90089       3   \n",
       "2        3   39                 15                   11      94720       1   \n",
       "3        4   35                  9                  100      94112       1   \n",
       "4        5   35                  8                   45      91330       4   \n",
       "...    ...  ...                ...                  ...        ...     ...   \n",
       "4995  4996   29                  3                   40      92697       1   \n",
       "4996  4997   30                  4                   15      92037       4   \n",
       "4997  4998   63                 39                   24      93023       2   \n",
       "4998  4999   65                 40                   49      90034       3   \n",
       "4999  5000   28                  4                   83      92612       3   \n",
       "\n",
       "      credit score  education  mortgage(thousands's)  personal loan  \\\n",
       "0              1.6          1                      0              0   \n",
       "1              1.5          1                      0              0   \n",
       "2              1.0          1                      0              0   \n",
       "3              2.7          0                      0              0   \n",
       "4              1.0          0                      0              0   \n",
       "...            ...        ...                    ...            ...   \n",
       "4995           1.9          2                      0              0   \n",
       "4996           0.4          1                     85              0   \n",
       "4997           0.3          2                      0              0   \n",
       "4998           0.5          0                      0              0   \n",
       "4999           0.8          1                      0              0   \n",
       "\n",
       "      securities account  cd account  online banking  creditcard  \n",
       "0                      1           0               0           0  \n",
       "1                      1           0               0           0  \n",
       "2                      0           0               0           0  \n",
       "3                      0           0               0           0  \n",
       "4                      0           0               0           1  \n",
       "...                  ...         ...             ...         ...  \n",
       "4995                   0           0               1           0  \n",
       "4996                   0           0               1           0  \n",
       "4997                   0           0               0           0  \n",
       "4998                   0           0               1           0  \n",
       "4999                   0           0               1           1  \n",
       "\n",
       "[5000 rows x 14 columns]"
      ]
     },
     "execution_count": 100,
     "metadata": {},
     "output_type": "execute_result"
    }
   ],
   "source": [
    "df"
   ]
  },
  {
   "cell_type": "markdown",
   "id": "99553757",
   "metadata": {},
   "source": [
    "### Define Columns Outliers \n",
    "Define columns outliers \n",
    "Define the columns you want to check for outliers"
   ]
  },
  {
   "cell_type": "code",
   "execution_count": 101,
   "id": "5fc64d28",
   "metadata": {},
   "outputs": [
    {
     "data": {
      "text/plain": [
       "(5000, 14)"
      ]
     },
     "execution_count": 101,
     "metadata": {},
     "output_type": "execute_result"
    }
   ],
   "source": [
    "import pandas as pd\n",
    "import numpy as np\n",
    "\n",
    "# Define the function to calculate lower and upper bounds\n",
    "def remove_outlier(col):\n",
    "    Q1 = col.quantile(0.25)\n",
    "    Q3 = col.quantile(0.75)\n",
    "    \n",
    "    # Calculate the IQR\n",
    "    IQR = Q3 - Q1\n",
    "    \n",
    "    lwr_bound = Q1 - 1.5 * IQR\n",
    "    upr_bound = Q3 + 1.5 * IQR\n",
    "    \n",
    "    return lwr_bound, upr_bound\n",
    "\n",
    "# List of columns to process\n",
    "columns_to_process = [\"Income(Thousands's)\",\"Credit Score\", \"Mortgage(Thousands's)\"]\n",
    "df.shape\n"
   ]
  },
  {
   "cell_type": "markdown",
   "id": "1264a291",
   "metadata": {},
   "source": [
    "### Eliminating Outliers"
   ]
  },
  {
   "cell_type": "code",
   "execution_count": 102,
   "id": "a2f11065",
   "metadata": {},
   "outputs": [
    {
     "name": "stdout",
     "output_type": "stream",
     "text": [
      "(5000, 14)\n"
     ]
    },
    {
     "data": {
      "image/png": "[encoded data removed]",
      "text/plain": [
       "<Figure size 640x480 with 1 Axes>"
      ]
     },
     "metadata": {},
     "output_type": "display_data"
    }
   ],
   "source": [
    "# List of columns to process\n",
    "columns_to_process = [\"income(thousands's)\", \"credit score\", \"mortgage(thousands's)\"]\n",
    "\n",
    "# Store original dtypes\n",
    "original_dtypes = df[columns_to_process].dtypes\n",
    "\n",
    "# Apply the outlier removal and capping for each column\n",
    "for column in columns_to_process:\n",
    "    low, high = remove_outlier(df[column])\n",
    "    df[column] = np.where(df[column] > high, high, df[column])\n",
    "    df[column] = np.where(df[column] < low, low, df[column])\n",
    "\n",
    "# Restore original dtypes, as we eliminate outliers , some data type become float so we will return it to int\n",
    "for column in columns_to_process:\n",
    "    if np.issubdtype(original_dtypes[column], np.integer):\n",
    "        df[column] = df[column].astype(int)\n",
    "\n",
    "# Plot boxplot for each column\n",
    "df.boxplot(column=columns_to_process)\n",
    "\n",
    "# Print the shape of the DataFrame\n",
    "print(df.shape)"
   ]
  },
  {
   "cell_type": "markdown",
   "id": "3a908e81",
   "metadata": {},
   "source": [
    "Put \"isFraud\" column to be the last column, to make easir to me split it in x and y"
   ]
  },
  {
   "cell_type": "code",
   "execution_count": 103,
   "id": "10df8234",
   "metadata": {},
   "outputs": [
    {
     "data": {
      "text/html": [
       "<div>\n",
       "<style scoped>\n",
       "    .dataframe tbody tr th:only-of-type {\n",
       "        vertical-align: middle;\n",
       "    }\n",
       "\n",
       "    .dataframe tbody tr th {\n",
       "        vertical-align: top;\n",
       "    }\n",
       "\n",
       "    .dataframe thead th {\n",
       "        text-align: right;\n",
       "    }\n",
       "</style>\n",
       "<table border=\"1\" class=\"dataframe\">\n",
       "  <thead>\n",
       "    <tr style=\"text-align: right;\">\n",
       "      <th></th>\n",
       "      <th>id</th>\n",
       "      <th>age</th>\n",
       "      <th>experience(years)</th>\n",
       "      <th>income(thousands's)</th>\n",
       "      <th>sort code</th>\n",
       "      <th>family</th>\n",
       "      <th>credit score</th>\n",
       "      <th>mortgage(thousands's)</th>\n",
       "      <th>personal loan</th>\n",
       "      <th>securities account</th>\n",
       "      <th>cd account</th>\n",
       "      <th>online banking</th>\n",
       "      <th>creditcard</th>\n",
       "      <th>education</th>\n",
       "    </tr>\n",
       "  </thead>\n",
       "  <tbody>\n",
       "    <tr>\n",
       "      <th>0</th>\n",
       "      <td>1</td>\n",
       "      <td>25</td>\n",
       "      <td>1</td>\n",
       "      <td>49</td>\n",
       "      <td>91107</td>\n",
       "      <td>4</td>\n",
       "      <td>1.6</td>\n",
       "      <td>0</td>\n",
       "      <td>0</td>\n",
       "      <td>1</td>\n",
       "      <td>0</td>\n",
       "      <td>0</td>\n",
       "      <td>0</td>\n",
       "      <td>1</td>\n",
       "    </tr>\n",
       "    <tr>\n",
       "      <th>1</th>\n",
       "      <td>2</td>\n",
       "      <td>45</td>\n",
       "      <td>19</td>\n",
       "      <td>34</td>\n",
       "      <td>90089</td>\n",
       "      <td>3</td>\n",
       "      <td>1.5</td>\n",
       "      <td>0</td>\n",
       "      <td>0</td>\n",
       "      <td>1</td>\n",
       "      <td>0</td>\n",
       "      <td>0</td>\n",
       "      <td>0</td>\n",
       "      <td>1</td>\n",
       "    </tr>\n",
       "    <tr>\n",
       "      <th>2</th>\n",
       "      <td>3</td>\n",
       "      <td>39</td>\n",
       "      <td>15</td>\n",
       "      <td>11</td>\n",
       "      <td>94720</td>\n",
       "      <td>1</td>\n",
       "      <td>1.0</td>\n",
       "      <td>0</td>\n",
       "      <td>0</td>\n",
       "      <td>0</td>\n",
       "      <td>0</td>\n",
       "      <td>0</td>\n",
       "      <td>0</td>\n",
       "      <td>1</td>\n",
       "    </tr>\n",
       "    <tr>\n",
       "      <th>3</th>\n",
       "      <td>4</td>\n",
       "      <td>35</td>\n",
       "      <td>9</td>\n",
       "      <td>100</td>\n",
       "      <td>94112</td>\n",
       "      <td>1</td>\n",
       "      <td>2.7</td>\n",
       "      <td>0</td>\n",
       "      <td>0</td>\n",
       "      <td>0</td>\n",
       "      <td>0</td>\n",
       "      <td>0</td>\n",
       "      <td>0</td>\n",
       "      <td>0</td>\n",
       "    </tr>\n",
       "    <tr>\n",
       "      <th>4</th>\n",
       "      <td>5</td>\n",
       "      <td>35</td>\n",
       "      <td>8</td>\n",
       "      <td>45</td>\n",
       "      <td>91330</td>\n",
       "      <td>4</td>\n",
       "      <td>1.0</td>\n",
       "      <td>0</td>\n",
       "      <td>0</td>\n",
       "      <td>0</td>\n",
       "      <td>0</td>\n",
       "      <td>0</td>\n",
       "      <td>1</td>\n",
       "      <td>0</td>\n",
       "    </tr>\n",
       "  </tbody>\n",
       "</table>\n",
       "</div>"
      ],
      "text/plain": [
       "   id  age  experience(years)  income(thousands's)  sort code  family  \\\n",
       "0   1   25                  1                   49      91107       4   \n",
       "1   2   45                 19                   34      90089       3   \n",
       "2   3   39                 15                   11      94720       1   \n",
       "3   4   35                  9                  100      94112       1   \n",
       "4   5   35                  8                   45      91330       4   \n",
       "\n",
       "   credit score  mortgage(thousands's)  personal loan  securities account  \\\n",
       "0           1.6                      0              0                   1   \n",
       "1           1.5                      0              0                   1   \n",
       "2           1.0                      0              0                   0   \n",
       "3           2.7                      0              0                   0   \n",
       "4           1.0                      0              0                   0   \n",
       "\n",
       "   cd account  online banking  creditcard  education  \n",
       "0           0               0           0          1  \n",
       "1           0               0           0          1  \n",
       "2           0               0           0          1  \n",
       "3           0               0           0          0  \n",
       "4           0               0           1          0  "
      ]
     },
     "execution_count": 103,
     "metadata": {},
     "output_type": "execute_result"
    }
   ],
   "source": [
    "# Assuming df is your DataFrame containing the data\n",
    "# Drop the \"income(thousands's)\" column and save it separately\n",
    "incomethousands = df.pop(\"education\")\n",
    "\n",
    "# Append the isFraud column to the DataFrame as the last column\n",
    "df[\"education\"] = incomethousands\n",
    "\n",
    "df.head()"
   ]
  },
  {
   "cell_type": "markdown",
   "id": "37314f47",
   "metadata": {},
   "source": [
    "### Create a Validation Dataset"
   ]
  },
  {
   "cell_type": "markdown",
   "id": "81a4968a",
   "metadata": {},
   "source": [
    "Now we will split the loaded dataset into two, 80% of which we will use to train, evaluate and select among our models, and 20% that we will hold back as a validation dataset.\n"
   ]
  },
  {
   "cell_type": "markdown",
   "id": "3ac14ad7-1005-4799-a42d-ab9faf89782d",
   "metadata": {},
   "source": [
    "### Target Variable\n",
    "Target Variable and Split the data into training and testing sets"
   ]
  },
  {
   "cell_type": "code",
   "execution_count": 104,
   "id": "01f97a26-6bef-4470-990b-446f26cf72d2",
   "metadata": {},
   "outputs": [
    {
     "data": {
      "text/html": [
       "<div>\n",
       "<style scoped>\n",
       "    .dataframe tbody tr th:only-of-type {\n",
       "        vertical-align: middle;\n",
       "    }\n",
       "\n",
       "    .dataframe tbody tr th {\n",
       "        vertical-align: top;\n",
       "    }\n",
       "\n",
       "    .dataframe thead th {\n",
       "        text-align: right;\n",
       "    }\n",
       "</style>\n",
       "<table border=\"1\" class=\"dataframe\">\n",
       "  <thead>\n",
       "    <tr style=\"text-align: right;\">\n",
       "      <th></th>\n",
       "      <th>id</th>\n",
       "      <th>age</th>\n",
       "      <th>experience(years)</th>\n",
       "      <th>income(thousands's)</th>\n",
       "      <th>sort code</th>\n",
       "      <th>family</th>\n",
       "      <th>credit score</th>\n",
       "      <th>mortgage(thousands's)</th>\n",
       "      <th>personal loan</th>\n",
       "      <th>securities account</th>\n",
       "      <th>cd account</th>\n",
       "      <th>online banking</th>\n",
       "      <th>creditcard</th>\n",
       "      <th>education</th>\n",
       "    </tr>\n",
       "  </thead>\n",
       "  <tbody>\n",
       "    <tr>\n",
       "      <th>0</th>\n",
       "      <td>1</td>\n",
       "      <td>25</td>\n",
       "      <td>1</td>\n",
       "      <td>49</td>\n",
       "      <td>91107</td>\n",
       "      <td>4</td>\n",
       "      <td>1.6</td>\n",
       "      <td>0</td>\n",
       "      <td>0</td>\n",
       "      <td>1</td>\n",
       "      <td>0</td>\n",
       "      <td>0</td>\n",
       "      <td>0</td>\n",
       "      <td>1</td>\n",
       "    </tr>\n",
       "    <tr>\n",
       "      <th>1</th>\n",
       "      <td>2</td>\n",
       "      <td>45</td>\n",
       "      <td>19</td>\n",
       "      <td>34</td>\n",
       "      <td>90089</td>\n",
       "      <td>3</td>\n",
       "      <td>1.5</td>\n",
       "      <td>0</td>\n",
       "      <td>0</td>\n",
       "      <td>1</td>\n",
       "      <td>0</td>\n",
       "      <td>0</td>\n",
       "      <td>0</td>\n",
       "      <td>1</td>\n",
       "    </tr>\n",
       "    <tr>\n",
       "      <th>2</th>\n",
       "      <td>3</td>\n",
       "      <td>39</td>\n",
       "      <td>15</td>\n",
       "      <td>11</td>\n",
       "      <td>94720</td>\n",
       "      <td>1</td>\n",
       "      <td>1.0</td>\n",
       "      <td>0</td>\n",
       "      <td>0</td>\n",
       "      <td>0</td>\n",
       "      <td>0</td>\n",
       "      <td>0</td>\n",
       "      <td>0</td>\n",
       "      <td>1</td>\n",
       "    </tr>\n",
       "    <tr>\n",
       "      <th>3</th>\n",
       "      <td>4</td>\n",
       "      <td>35</td>\n",
       "      <td>9</td>\n",
       "      <td>100</td>\n",
       "      <td>94112</td>\n",
       "      <td>1</td>\n",
       "      <td>2.7</td>\n",
       "      <td>0</td>\n",
       "      <td>0</td>\n",
       "      <td>0</td>\n",
       "      <td>0</td>\n",
       "      <td>0</td>\n",
       "      <td>0</td>\n",
       "      <td>0</td>\n",
       "    </tr>\n",
       "    <tr>\n",
       "      <th>4</th>\n",
       "      <td>5</td>\n",
       "      <td>35</td>\n",
       "      <td>8</td>\n",
       "      <td>45</td>\n",
       "      <td>91330</td>\n",
       "      <td>4</td>\n",
       "      <td>1.0</td>\n",
       "      <td>0</td>\n",
       "      <td>0</td>\n",
       "      <td>0</td>\n",
       "      <td>0</td>\n",
       "      <td>0</td>\n",
       "      <td>1</td>\n",
       "      <td>0</td>\n",
       "    </tr>\n",
       "  </tbody>\n",
       "</table>\n",
       "</div>"
      ],
      "text/plain": [
       "   id  age  experience(years)  income(thousands's)  sort code  family  \\\n",
       "0   1   25                  1                   49      91107       4   \n",
       "1   2   45                 19                   34      90089       3   \n",
       "2   3   39                 15                   11      94720       1   \n",
       "3   4   35                  9                  100      94112       1   \n",
       "4   5   35                  8                   45      91330       4   \n",
       "\n",
       "   credit score  mortgage(thousands's)  personal loan  securities account  \\\n",
       "0           1.6                      0              0                   1   \n",
       "1           1.5                      0              0                   1   \n",
       "2           1.0                      0              0                   0   \n",
       "3           2.7                      0              0                   0   \n",
       "4           1.0                      0              0                   0   \n",
       "\n",
       "   cd account  online banking  creditcard  education  \n",
       "0           0               0           0          1  \n",
       "1           0               0           0          1  \n",
       "2           0               0           0          1  \n",
       "3           0               0           0          0  \n",
       "4           0               0           1          0  "
      ]
     },
     "execution_count": 104,
     "metadata": {},
     "output_type": "execute_result"
    }
   ],
   "source": [
    "df.head()"
   ]
  },
  {
   "cell_type": "code",
   "execution_count": 105,
   "id": "148fa278-f955-47bc-810e-7e290d609499",
   "metadata": {},
   "outputs": [],
   "source": [
    "from sklearn.preprocessing import MinMaxScaler\n",
    "# Features and target variable\n",
    "X = df.drop([\"income(thousands's)\"], axis=1)\n",
    "y = df[\"income(thousands's)\"]\n",
    "\n",
    "# Scale the features\n",
    "scaler = MinMaxScaler()\n",
    "X_scaled = scaler.fit_transform(X)\n",
    "\n",
    "# Split the data into training and testing sets\n",
    "X_train, X_test, y_train, y_test = train_test_split(X_scaled, y, test_size=0.2, random_state=42)\n",
    "\n",
    "# Reshape X_train and X_test to fit the LSTM input shape\n",
    "X_train = np.reshape(X_train, (X_train.shape[0], X_train.shape[1], 1))\n",
    "X_test = np.reshape(X_test, (X_test.shape[0], X_test.shape[1], 1))"
   ]
  },
  {
   "cell_type": "markdown",
   "id": "84b7cb20-a849-4246-90d7-c017bbb3b56e",
   "metadata": {},
   "source": [
    "### Bulding Model \n",
    "Neural Network"
   ]
  },
  {
   "cell_type": "code",
   "execution_count": 106,
   "id": "eaf1a862-eb8a-4a4b-b032-352c502a360a",
   "metadata": {},
   "outputs": [
    {
     "name": "stdout",
     "output_type": "stream",
     "text": [
      "Epoch 1/10\n",
      "\u001b[1m3200/3200\u001b[0m \u001b[32m━━━━━━━━━━━━━━━━━━━━\u001b[0m\u001b[37m\u001b[0m \u001b[1m66s\u001b[0m 17ms/step - loss: 2621.7554 - mae: 40.1012 - val_loss: 1858.5022 - val_mae: 35.0276\n",
      "Epoch 2/10\n",
      "\u001b[1m3200/3200\u001b[0m \u001b[32m━━━━━━━━━━━━━━━━━━━━\u001b[0m\u001b[37m\u001b[0m \u001b[1m51s\u001b[0m 16ms/step - loss: 2157.9541 - mae: 37.5613 - val_loss: 1828.5804 - val_mae: 33.9856\n",
      "Epoch 3/10\n",
      "\u001b[1m3200/3200\u001b[0m \u001b[32m━━━━━━━━━━━━━━━━━━━━\u001b[0m\u001b[37m\u001b[0m \u001b[1m50s\u001b[0m 16ms/step - loss: 2047.9279 - mae: 36.4452 - val_loss: 1864.6857 - val_mae: 35.1294\n",
      "Epoch 4/10\n",
      "\u001b[1m3200/3200\u001b[0m \u001b[32m━━━━━━━━━━━━━━━━━━━━\u001b[0m\u001b[37m\u001b[0m \u001b[1m50s\u001b[0m 16ms/step - loss: 2083.2180 - mae: 37.1553 - val_loss: 1900.4261 - val_mae: 35.6813\n",
      "Epoch 5/10\n",
      "\u001b[1m3200/3200\u001b[0m \u001b[32m━━━━━━━━━━━━━━━━━━━━\u001b[0m\u001b[37m\u001b[0m \u001b[1m50s\u001b[0m 16ms/step - loss: 2185.2590 - mae: 37.8230 - val_loss: 1832.4066 - val_mae: 33.9268\n",
      "Epoch 6/10\n",
      "\u001b[1m3200/3200\u001b[0m \u001b[32m━━━━━━━━━━━━━━━━━━━━\u001b[0m\u001b[37m\u001b[0m \u001b[1m49s\u001b[0m 15ms/step - loss: 2150.6404 - mae: 37.4105 - val_loss: 1827.5153 - val_mae: 34.2314\n",
      "Epoch 7/10\n",
      "\u001b[1m3200/3200\u001b[0m \u001b[32m━━━━━━━━━━━━━━━━━━━━\u001b[0m\u001b[37m\u001b[0m \u001b[1m50s\u001b[0m 16ms/step - loss: 2140.3555 - mae: 37.7171 - val_loss: 1841.3575 - val_mae: 34.6764\n",
      "Epoch 8/10\n",
      "\u001b[1m3200/3200\u001b[0m \u001b[32m━━━━━━━━━━━━━━━━━━━━\u001b[0m\u001b[37m\u001b[0m \u001b[1m50s\u001b[0m 16ms/step - loss: 2195.1426 - mae: 38.0928 - val_loss: 1826.9897 - val_mae: 34.0458\n",
      "Epoch 9/10\n",
      "\u001b[1m3200/3200\u001b[0m \u001b[32m━━━━━━━━━━━━━━━━━━━━\u001b[0m\u001b[37m\u001b[0m \u001b[1m49s\u001b[0m 15ms/step - loss: 2071.9976 - mae: 36.8254 - val_loss: 1851.4368 - val_mae: 33.8327\n",
      "Epoch 10/10\n",
      "\u001b[1m3200/3200\u001b[0m \u001b[32m━━━━━━━━━━━━━━━━━━━━\u001b[0m\u001b[37m\u001b[0m \u001b[1m49s\u001b[0m 15ms/step - loss: 2128.1318 - mae: 37.2574 - val_loss: 1924.9803 - val_mae: 36.0501\n",
      "\u001b[1m32/32\u001b[0m \u001b[32m━━━━━━━━━━━━━━━━━━━━\u001b[0m\u001b[37m\u001b[0m \u001b[1m3s\u001b[0m 48ms/step\n"
     ]
    }
   ],
   "source": [
    "from sklearn.metrics import mean_squared_error, r2_score, mean_absolute_error\n",
    "from keras.models import Sequential\n",
    "from keras.layers import Dense, LSTM, Dropout\n",
    "\n",
    "# Build the LSTM model\n",
    "model = Sequential()\n",
    "model.add(LSTM(50, return_sequences=True, input_shape=(X_train.shape[1], 1)))\n",
    "model.add(LSTM(50, return_sequences=False))\n",
    "model.add(Dense(25))\n",
    "model.add(Dense(1))\n",
    "\n",
    "# Compile the model\n",
    "model.compile(optimizer='adam', loss='mean_squared_error', metrics=['mae'])\n",
    "\n",
    "# Train the model\n",
    "history = model.fit(X_train, y_train, batch_size=1, epochs=10, validation_split=0.2)\n",
    "\n",
    "# Predictions for LSTM\n",
    "lstm_predictions = model.predict(X_test)\n",
    "lstm_predictions = np.reshape(lstm_predictions, (lstm_predictions.shape[0],))\n"
   ]
  },
  {
   "cell_type": "markdown",
   "id": "da4102f7-4281-47b6-a9b1-6189991d7507",
   "metadata": {},
   "source": [
    "### Calculate metrics for LSTM"
   ]
  },
  {
   "cell_type": "code",
   "execution_count": 107,
   "id": "eb1f94cd-69cc-48c7-8d55-acdcd4713d61",
   "metadata": {},
   "outputs": [
    {
     "name": "stdout",
     "output_type": "stream",
     "text": [
      "LSTM Mean Squared Error: 2163.6030255144374\n",
      "LSTM R^2 Score: -0.034113985402810965\n",
      "LSTM Mean Absolute Error: 38.64808135986328\n"
     ]
    }
   ],
   "source": [
    "lstm_mse = mean_squared_error(y_test, lstm_predictions)\n",
    "lstm_r2 = r2_score(y_test, lstm_predictions)\n",
    "lstm_mae = mean_absolute_error(y_test, lstm_predictions)\n",
    "\n",
    "print(f'LSTM Mean Squared Error: {lstm_mse}')\n",
    "print(f'LSTM R^2 Score: {lstm_r2}')\n",
    "print(f'LSTM Mean Absolute Error: {lstm_mae}')"
   ]
  },
  {
   "cell_type": "markdown",
   "id": "fc2697f4-5b46-474a-97c3-3bf15d2e6787",
   "metadata": {},
   "source": [
    "### Train Random Forest Regressor\n",
    "Traning Random and calculating Metrics "
   ]
  },
  {
   "cell_type": "code",
   "execution_count": 110,
   "id": "7e731283-b6e9-4f41-948d-b97c2123329e",
   "metadata": {},
   "outputs": [
    {
     "name": "stdout",
     "output_type": "stream",
     "text": [
      "Random Forest Mean Squared Error: 439.1125726\n",
      "Random Forest R^2 Score: 0.79012210320611\n",
      "Random Forest Mean Absolute Error: 15.592060000000002\n"
     ]
    }
   ],
   "source": [
    "from sklearn.ensemble import RandomForestRegressor\n",
    "\n",
    "# Train Random Forest Regressor\n",
    "rf = RandomForestRegressor(n_estimators=100, random_state=42)\n",
    "rf.fit(X_train.reshape(X_train.shape[0], X_train.shape[1]), y_train)\n",
    "\n",
    "# Predictions for Random Forest\n",
    "rf_predictions = rf.predict(X_test.reshape(X_test.shape[0], X_test.shape[1]))\n",
    "\n",
    "# Calculate metrics for Random Forest\n",
    "rf_mse = mean_squared_error(y_test, rf_predictions)\n",
    "rf_r2 = r2_score(y_test, rf_predictions)\n",
    "rf_mae = mean_absolute_error(y_test, rf_predictions)\n",
    "\n",
    "print(f'Random Forest Mean Squared Error: {rf_mse}')\n",
    "print(f'Random Forest R^2 Score: {rf_r2}')\n",
    "print(f'Random Forest Mean Absolute Error: {rf_mae}')"
   ]
  },
  {
   "cell_type": "markdown",
   "id": "f814547a-4fab-4604-8656-7cc4ab22d466",
   "metadata": {},
   "source": [
    "### Evaluate Model RF"
   ]
  },
  {
   "cell_type": "code",
   "execution_count": 112,
   "id": "28a137de-7d84-4810-920e-f4a7a40455e4",
   "metadata": {},
   "outputs": [
    {
     "name": "stdout",
     "output_type": "stream",
     "text": [
      "\n",
      "Random Forest Predictions vs Actual:\n",
      "   Actual  RF_Predicted\n",
      "0      35         24.73\n",
      "1     149        153.98\n",
      "2     121        122.69\n",
      "3      62         59.80\n",
      "4      30         50.59\n",
      "5      69         77.69\n",
      "6     128        172.87\n",
      "7     133        146.27\n",
      "8      31         37.99\n",
      "9     129        143.86\n"
     ]
    }
   ],
   "source": [
    "rf_comparison_df = pd.DataFrame({\"Actual\": y_test.values.flatten(), \"RF_Predicted\": rf_predictions.flatten()})\n",
    "\n",
    "print(\"\\nRandom Forest Predictions vs Actual:\")\n",
    "print(rf_comparison_df.head(10))  # Print first 20 rows"
   ]
  },
  {
   "cell_type": "markdown",
   "id": "40e2e170-f3fe-4771-bd66-c42dc46f8609",
   "metadata": {},
   "source": [
    "Mean Squared Error (MSE):\r\n",
    "\r\n",
    "Random Forest: 439.11\r\n",
    "LSTM: 2163.60\r\n",
    "Conclusion: The lower MSE of the Random Forest model indicates it has better predictive accuracy with smaller squared prediction errors.\r\n",
    "R-squared (R²) Score:\r\n",
    "\r\n",
    "Random Forest: 0.79\r\n",
    "LSTM: -0.03\r\n",
    "Conclusion: The Random Forest's R² score shows it explains 79% of the variance in the target variable, while the LSTM's negative R² score suggests it performs worse than a simple mean prediction.\r\n",
    "Mean Absolute Error (MAE):\r\n",
    "\r\n",
    "Random Forest: 15.59\r\n",
    "LSTM: 38.65\r\n",
    "Conclusion: The lower MAE of the Random Forest model indicates it has smaller average errors in predictions.\r\n",
    "In summary, the Random Forest model is superior, with lower MSE and MAE values and a higher R² score, demonstrating better overall performance."
   ]
  },
  {
   "cell_type": "code",
   "execution_count": null,
   "id": "e3c3653d-0b81-4b32-90f3-0a4ca3dcf944",
   "metadata": {},
   "outputs": [],
   "source": []
  },
  {
   "cell_type": "markdown",
   "id": "911b4bde-083c-4336-93a0-cad0ae43bebf",
   "metadata": {},
   "source": [
    "# Semantic Analysis\r\n"
   ]
  },
  {
   "cell_type": "raw",
   "id": "fb7bf243-83ef-4b3e-91cf-e7c54689d934",
   "metadata": {},
   "source": [
    "Semantic analysis is crucial for various applications in natural language processing (NLP), \n",
    "such as machine translation, information retrieval, question answering, and text summarization. \n",
    "By understanding the meaning of text, computers can perform more complex tasks and provide \n",
    "more accurate and relevant results.\n",
    "Drew Jamieson (2022) "
   ]
  },
  {
   "cell_type": "markdown",
   "id": "51df2920-9757-4871-82bd-cbbe89b95de5",
   "metadata": {},
   "source": [
    "### Twitter US Airline Sentiment\n",
    "Link Dataset: https://www.kaggle.com/datasets/crowdflower/twitter-airline-sentiment"
   ]
  },
  {
   "cell_type": "code",
   "execution_count": 113,
   "id": "6f63688e-6ae8-4e1a-923e-cb8785289a91",
   "metadata": {},
   "outputs": [
    {
     "name": "stdout",
     "output_type": "stream",
     "text": [
      "2.16.1\n"
     ]
    },
    {
     "name": "stderr",
     "output_type": "stream",
     "text": [
      "[nltk_data] Downloading package stopwords to\n",
      "[nltk_data]     C:\\Users\\HP\\AppData\\Roaming\\nltk_data...\n",
      "[nltk_data]   Package stopwords is already up-to-date!\n"
     ]
    }
   ],
   "source": [
    "# Import necessary libraries\n",
    "import pandas as pd\n",
    "import numpy as np\n",
    "import seaborn as sns\n",
    "import re\n",
    "import string\n",
    "from string import punctuation\n",
    "import nltk\n",
    "from nltk.corpus import stopwords\n",
    "nltk.download('stopwords')\n",
    "\n",
    "import matplotlib.pyplot as plt\n",
    "from sklearn.model_selection import train_test_split\n",
    "from sklearn.feature_extraction.text import CountVectorizer\n",
    "from sklearn.feature_extraction.text import TfidfTransformer\n",
    "\n",
    "import tensorflow as tf\n",
    "from tensorflow.keras.models import Sequential\n",
    "from tensorflow.keras.layers import Dense, Activation, Dropout\n",
    "from tensorflow.keras.callbacks import EarlyStopping\n",
    "\n",
    "# Verify TensorFlow installation\n",
    "print(tf.__version__)"
   ]
  },
  {
   "cell_type": "markdown",
   "id": "801b1853-6c81-46f6-9a40-73d61f8cfac6",
   "metadata": {},
   "source": [
    "## Reading the File"
   ]
  },
  {
   "cell_type": "code",
   "execution_count": 114,
   "id": "9a742448-f197-47a6-a6d8-32c21bb09e89",
   "metadata": {},
   "outputs": [
    {
     "data": {
      "text/html": [
       "<div>\n",
       "<style scoped>\n",
       "    .dataframe tbody tr th:only-of-type {\n",
       "        vertical-align: middle;\n",
       "    }\n",
       "\n",
       "    .dataframe tbody tr th {\n",
       "        vertical-align: top;\n",
       "    }\n",
       "\n",
       "    .dataframe thead th {\n",
       "        text-align: right;\n",
       "    }\n",
       "</style>\n",
       "<table border=\"1\" class=\"dataframe\">\n",
       "  <thead>\n",
       "    <tr style=\"text-align: right;\">\n",
       "      <th></th>\n",
       "      <th>tweet_id</th>\n",
       "      <th>airline_sentiment</th>\n",
       "      <th>airline_sentiment_confidence</th>\n",
       "      <th>negativereason</th>\n",
       "      <th>negativereason_confidence</th>\n",
       "      <th>airline</th>\n",
       "      <th>airline_sentiment_gold</th>\n",
       "      <th>name</th>\n",
       "      <th>negativereason_gold</th>\n",
       "      <th>retweet_count</th>\n",
       "      <th>text</th>\n",
       "      <th>tweet_coord</th>\n",
       "      <th>tweet_created</th>\n",
       "      <th>tweet_location</th>\n",
       "      <th>user_timezone</th>\n",
       "    </tr>\n",
       "  </thead>\n",
       "  <tbody>\n",
       "    <tr>\n",
       "      <th>0</th>\n",
       "      <td>570306133677760513</td>\n",
       "      <td>neutral</td>\n",
       "      <td>1.0000</td>\n",
       "      <td>NaN</td>\n",
       "      <td>NaN</td>\n",
       "      <td>Virgin America</td>\n",
       "      <td>NaN</td>\n",
       "      <td>cairdin</td>\n",
       "      <td>NaN</td>\n",
       "      <td>0</td>\n",
       "      <td>@VirginAmerica What @dhepburn said.</td>\n",
       "      <td>NaN</td>\n",
       "      <td>2015-02-24 11:35:52 -0800</td>\n",
       "      <td>NaN</td>\n",
       "      <td>Eastern Time (US &amp; Canada)</td>\n",
       "    </tr>\n",
       "    <tr>\n",
       "      <th>1</th>\n",
       "      <td>570301130888122368</td>\n",
       "      <td>positive</td>\n",
       "      <td>0.3486</td>\n",
       "      <td>NaN</td>\n",
       "      <td>0.0000</td>\n",
       "      <td>Virgin America</td>\n",
       "      <td>NaN</td>\n",
       "      <td>jnardino</td>\n",
       "      <td>NaN</td>\n",
       "      <td>0</td>\n",
       "      <td>@VirginAmerica plus you've added commercials t...</td>\n",
       "      <td>NaN</td>\n",
       "      <td>2015-02-24 11:15:59 -0800</td>\n",
       "      <td>NaN</td>\n",
       "      <td>Pacific Time (US &amp; Canada)</td>\n",
       "    </tr>\n",
       "    <tr>\n",
       "      <th>2</th>\n",
       "      <td>570301083672813571</td>\n",
       "      <td>neutral</td>\n",
       "      <td>0.6837</td>\n",
       "      <td>NaN</td>\n",
       "      <td>NaN</td>\n",
       "      <td>Virgin America</td>\n",
       "      <td>NaN</td>\n",
       "      <td>yvonnalynn</td>\n",
       "      <td>NaN</td>\n",
       "      <td>0</td>\n",
       "      <td>@VirginAmerica I didn't today... Must mean I n...</td>\n",
       "      <td>NaN</td>\n",
       "      <td>2015-02-24 11:15:48 -0800</td>\n",
       "      <td>Lets Play</td>\n",
       "      <td>Central Time (US &amp; Canada)</td>\n",
       "    </tr>\n",
       "    <tr>\n",
       "      <th>3</th>\n",
       "      <td>570301031407624196</td>\n",
       "      <td>negative</td>\n",
       "      <td>1.0000</td>\n",
       "      <td>Bad Flight</td>\n",
       "      <td>0.7033</td>\n",
       "      <td>Virgin America</td>\n",
       "      <td>NaN</td>\n",
       "      <td>jnardino</td>\n",
       "      <td>NaN</td>\n",
       "      <td>0</td>\n",
       "      <td>@VirginAmerica it's really aggressive to blast...</td>\n",
       "      <td>NaN</td>\n",
       "      <td>2015-02-24 11:15:36 -0800</td>\n",
       "      <td>NaN</td>\n",
       "      <td>Pacific Time (US &amp; Canada)</td>\n",
       "    </tr>\n",
       "    <tr>\n",
       "      <th>4</th>\n",
       "      <td>570300817074462722</td>\n",
       "      <td>negative</td>\n",
       "      <td>1.0000</td>\n",
       "      <td>Can't Tell</td>\n",
       "      <td>1.0000</td>\n",
       "      <td>Virgin America</td>\n",
       "      <td>NaN</td>\n",
       "      <td>jnardino</td>\n",
       "      <td>NaN</td>\n",
       "      <td>0</td>\n",
       "      <td>@VirginAmerica and it's a really big bad thing...</td>\n",
       "      <td>NaN</td>\n",
       "      <td>2015-02-24 11:14:45 -0800</td>\n",
       "      <td>NaN</td>\n",
       "      <td>Pacific Time (US &amp; Canada)</td>\n",
       "    </tr>\n",
       "  </tbody>\n",
       "</table>\n",
       "</div>"
      ],
      "text/plain": [
       "             tweet_id airline_sentiment  airline_sentiment_confidence  \\\n",
       "0  570306133677760513           neutral                        1.0000   \n",
       "1  570301130888122368          positive                        0.3486   \n",
       "2  570301083672813571           neutral                        0.6837   \n",
       "3  570301031407624196          negative                        1.0000   \n",
       "4  570300817074462722          negative                        1.0000   \n",
       "\n",
       "  negativereason  negativereason_confidence         airline  \\\n",
       "0            NaN                        NaN  Virgin America   \n",
       "1            NaN                     0.0000  Virgin America   \n",
       "2            NaN                        NaN  Virgin America   \n",
       "3     Bad Flight                     0.7033  Virgin America   \n",
       "4     Can't Tell                     1.0000  Virgin America   \n",
       "\n",
       "  airline_sentiment_gold        name negativereason_gold  retweet_count  \\\n",
       "0                    NaN     cairdin                 NaN              0   \n",
       "1                    NaN    jnardino                 NaN              0   \n",
       "2                    NaN  yvonnalynn                 NaN              0   \n",
       "3                    NaN    jnardino                 NaN              0   \n",
       "4                    NaN    jnardino                 NaN              0   \n",
       "\n",
       "                                                text tweet_coord  \\\n",
       "0                @VirginAmerica What @dhepburn said.         NaN   \n",
       "1  @VirginAmerica plus you've added commercials t...         NaN   \n",
       "2  @VirginAmerica I didn't today... Must mean I n...         NaN   \n",
       "3  @VirginAmerica it's really aggressive to blast...         NaN   \n",
       "4  @VirginAmerica and it's a really big bad thing...         NaN   \n",
       "\n",
       "               tweet_created tweet_location               user_timezone  \n",
       "0  2015-02-24 11:35:52 -0800            NaN  Eastern Time (US & Canada)  \n",
       "1  2015-02-24 11:15:59 -0800            NaN  Pacific Time (US & Canada)  \n",
       "2  2015-02-24 11:15:48 -0800      Lets Play  Central Time (US & Canada)  \n",
       "3  2015-02-24 11:15:36 -0800            NaN  Pacific Time (US & Canada)  \n",
       "4  2015-02-24 11:14:45 -0800            NaN  Pacific Time (US & Canada)  "
      ]
     },
     "execution_count": 114,
     "metadata": {},
     "output_type": "execute_result"
    }
   ],
   "source": [
    "df = pd.read_csv('Tweets.csv')\n",
    "df.head() "
   ]
  },
  {
   "cell_type": "code",
   "execution_count": 115,
   "id": "f8f52e74-8d94-4e4c-b6af-63c6807ba849",
   "metadata": {
    "scrolled": true
   },
   "outputs": [
    {
     "data": {
      "text/plain": [
       "(14640, 15)"
      ]
     },
     "execution_count": 115,
     "metadata": {},
     "output_type": "execute_result"
    }
   ],
   "source": [
    "df.shape # First \"How many observations(rows) and how many features (columns)\""
   ]
  },
  {
   "cell_type": "markdown",
   "id": "afcb29f9-2d61-45d0-a08d-ef910834d1b2",
   "metadata": {},
   "source": [
    "### Drop Columns"
   ]
  },
  {
   "cell_type": "code",
   "execution_count": 116,
   "id": "b4c3f739-f28e-466a-8d10-cbe6d248b096",
   "metadata": {},
   "outputs": [
    {
     "data": {
      "text/html": [
       "<div>\n",
       "<style scoped>\n",
       "    .dataframe tbody tr th:only-of-type {\n",
       "        vertical-align: middle;\n",
       "    }\n",
       "\n",
       "    .dataframe tbody tr th {\n",
       "        vertical-align: top;\n",
       "    }\n",
       "\n",
       "    .dataframe thead th {\n",
       "        text-align: right;\n",
       "    }\n",
       "</style>\n",
       "<table border=\"1\" class=\"dataframe\">\n",
       "  <thead>\n",
       "    <tr style=\"text-align: right;\">\n",
       "      <th></th>\n",
       "      <th>airline_sentiment</th>\n",
       "      <th>airline</th>\n",
       "      <th>retweet_count</th>\n",
       "      <th>text</th>\n",
       "      <th>tweet_created</th>\n",
       "    </tr>\n",
       "  </thead>\n",
       "  <tbody>\n",
       "    <tr>\n",
       "      <th>0</th>\n",
       "      <td>neutral</td>\n",
       "      <td>Virgin America</td>\n",
       "      <td>0</td>\n",
       "      <td>@VirginAmerica What @dhepburn said.</td>\n",
       "      <td>2015-02-24 11:35:52 -0800</td>\n",
       "    </tr>\n",
       "    <tr>\n",
       "      <th>1</th>\n",
       "      <td>positive</td>\n",
       "      <td>Virgin America</td>\n",
       "      <td>0</td>\n",
       "      <td>@VirginAmerica plus you've added commercials t...</td>\n",
       "      <td>2015-02-24 11:15:59 -0800</td>\n",
       "    </tr>\n",
       "    <tr>\n",
       "      <th>2</th>\n",
       "      <td>neutral</td>\n",
       "      <td>Virgin America</td>\n",
       "      <td>0</td>\n",
       "      <td>@VirginAmerica I didn't today... Must mean I n...</td>\n",
       "      <td>2015-02-24 11:15:48 -0800</td>\n",
       "    </tr>\n",
       "    <tr>\n",
       "      <th>3</th>\n",
       "      <td>negative</td>\n",
       "      <td>Virgin America</td>\n",
       "      <td>0</td>\n",
       "      <td>@VirginAmerica it's really aggressive to blast...</td>\n",
       "      <td>2015-02-24 11:15:36 -0800</td>\n",
       "    </tr>\n",
       "    <tr>\n",
       "      <th>4</th>\n",
       "      <td>negative</td>\n",
       "      <td>Virgin America</td>\n",
       "      <td>0</td>\n",
       "      <td>@VirginAmerica and it's a really big bad thing...</td>\n",
       "      <td>2015-02-24 11:14:45 -0800</td>\n",
       "    </tr>\n",
       "  </tbody>\n",
       "</table>\n",
       "</div>"
      ],
      "text/plain": [
       "  airline_sentiment         airline  retweet_count  \\\n",
       "0           neutral  Virgin America              0   \n",
       "1          positive  Virgin America              0   \n",
       "2           neutral  Virgin America              0   \n",
       "3          negative  Virgin America              0   \n",
       "4          negative  Virgin America              0   \n",
       "\n",
       "                                                text  \\\n",
       "0                @VirginAmerica What @dhepburn said.   \n",
       "1  @VirginAmerica plus you've added commercials t...   \n",
       "2  @VirginAmerica I didn't today... Must mean I n...   \n",
       "3  @VirginAmerica it's really aggressive to blast...   \n",
       "4  @VirginAmerica and it's a really big bad thing...   \n",
       "\n",
       "               tweet_created  \n",
       "0  2015-02-24 11:35:52 -0800  \n",
       "1  2015-02-24 11:15:59 -0800  \n",
       "2  2015-02-24 11:15:48 -0800  \n",
       "3  2015-02-24 11:15:36 -0800  \n",
       "4  2015-02-24 11:14:45 -0800  "
      ]
     },
     "execution_count": 116,
     "metadata": {},
     "output_type": "execute_result"
    }
   ],
   "source": [
    "# Drop unnecessary columns\n",
    "columns_to_drop = [\n",
    "    'tweet_id', 'airline_sentiment_confidence', 'negativereason', 'negativereason_confidence',\n",
    "    'airline_sentiment_gold', 'name', 'negativereason_gold', 'tweet_coord', 'tweet_location', 'user_timezone'\n",
    "]\n",
    "df = df.drop(columns=columns_to_drop, axis=1)\n",
    "\n",
    "# Drop rows with missing values\n",
    "df.dropna(inplace=True)\n",
    "\n",
    "# Display the first few rows of the DataFrame to check the remaining columns\n",
    "df.head()"
   ]
  },
  {
   "cell_type": "markdown",
   "id": "3f661dbb-28ed-4365-af85-f4378add138e",
   "metadata": {},
   "source": [
    "### Check Null Values"
   ]
  },
  {
   "cell_type": "code",
   "execution_count": 117,
   "id": "0f27580a-53f3-461a-9b98-708fc008cb75",
   "metadata": {},
   "outputs": [
    {
     "data": {
      "text/plain": [
       "airline_sentiment    0\n",
       "airline              0\n",
       "retweet_count        0\n",
       "text                 0\n",
       "tweet_created        0\n",
       "dtype: int64"
      ]
     },
     "execution_count": 117,
     "metadata": {},
     "output_type": "execute_result"
    }
   ],
   "source": [
    "df.isnull().sum()\n",
    "#df.fillna('')"
   ]
  },
  {
   "cell_type": "markdown",
   "id": "aa6d6986-c7a3-44d4-aa25-376f2cd43cbc",
   "metadata": {},
   "source": [
    "### Creating a Rating Column"
   ]
  },
  {
   "cell_type": "code",
   "execution_count": 118,
   "id": "26af3a13-dfc4-45ac-8c6c-cc2beb0c8628",
   "metadata": {},
   "outputs": [
    {
     "data": {
      "text/html": [
       "<div>\n",
       "<style scoped>\n",
       "    .dataframe tbody tr th:only-of-type {\n",
       "        vertical-align: middle;\n",
       "    }\n",
       "\n",
       "    .dataframe tbody tr th {\n",
       "        vertical-align: top;\n",
       "    }\n",
       "\n",
       "    .dataframe thead th {\n",
       "        text-align: right;\n",
       "    }\n",
       "</style>\n",
       "<table border=\"1\" class=\"dataframe\">\n",
       "  <thead>\n",
       "    <tr style=\"text-align: right;\">\n",
       "      <th></th>\n",
       "      <th>airline_sentiment</th>\n",
       "      <th>airline</th>\n",
       "      <th>retweet_count</th>\n",
       "      <th>text</th>\n",
       "      <th>tweet_created</th>\n",
       "      <th>rating</th>\n",
       "    </tr>\n",
       "  </thead>\n",
       "  <tbody>\n",
       "    <tr>\n",
       "      <th>0</th>\n",
       "      <td>neutral</td>\n",
       "      <td>Virgin America</td>\n",
       "      <td>0</td>\n",
       "      <td>@VirginAmerica What @dhepburn said.</td>\n",
       "      <td>2015-02-24 11:35:52 -0800</td>\n",
       "      <td>2</td>\n",
       "    </tr>\n",
       "    <tr>\n",
       "      <th>1</th>\n",
       "      <td>positive</td>\n",
       "      <td>Virgin America</td>\n",
       "      <td>0</td>\n",
       "      <td>@VirginAmerica plus you've added commercials t...</td>\n",
       "      <td>2015-02-24 11:15:59 -0800</td>\n",
       "      <td>3</td>\n",
       "    </tr>\n",
       "    <tr>\n",
       "      <th>2</th>\n",
       "      <td>neutral</td>\n",
       "      <td>Virgin America</td>\n",
       "      <td>0</td>\n",
       "      <td>@VirginAmerica I didn't today... Must mean I n...</td>\n",
       "      <td>2015-02-24 11:15:48 -0800</td>\n",
       "      <td>2</td>\n",
       "    </tr>\n",
       "    <tr>\n",
       "      <th>3</th>\n",
       "      <td>negative</td>\n",
       "      <td>Virgin America</td>\n",
       "      <td>0</td>\n",
       "      <td>@VirginAmerica it's really aggressive to blast...</td>\n",
       "      <td>2015-02-24 11:15:36 -0800</td>\n",
       "      <td>1</td>\n",
       "    </tr>\n",
       "    <tr>\n",
       "      <th>4</th>\n",
       "      <td>negative</td>\n",
       "      <td>Virgin America</td>\n",
       "      <td>0</td>\n",
       "      <td>@VirginAmerica and it's a really big bad thing...</td>\n",
       "      <td>2015-02-24 11:14:45 -0800</td>\n",
       "      <td>1</td>\n",
       "    </tr>\n",
       "  </tbody>\n",
       "</table>\n",
       "</div>"
      ],
      "text/plain": [
       "  airline_sentiment         airline  retweet_count  \\\n",
       "0           neutral  Virgin America              0   \n",
       "1          positive  Virgin America              0   \n",
       "2           neutral  Virgin America              0   \n",
       "3          negative  Virgin America              0   \n",
       "4          negative  Virgin America              0   \n",
       "\n",
       "                                                text  \\\n",
       "0                @VirginAmerica What @dhepburn said.   \n",
       "1  @VirginAmerica plus you've added commercials t...   \n",
       "2  @VirginAmerica I didn't today... Must mean I n...   \n",
       "3  @VirginAmerica it's really aggressive to blast...   \n",
       "4  @VirginAmerica and it's a really big bad thing...   \n",
       "\n",
       "               tweet_created  rating  \n",
       "0  2015-02-24 11:35:52 -0800       2  \n",
       "1  2015-02-24 11:15:59 -0800       3  \n",
       "2  2015-02-24 11:15:48 -0800       2  \n",
       "3  2015-02-24 11:15:36 -0800       1  \n",
       "4  2015-02-24 11:14:45 -0800       1  "
      ]
     },
     "execution_count": 118,
     "metadata": {},
     "output_type": "execute_result"
    }
   ],
   "source": [
    "df['rating'] = df['airline_sentiment'].apply(lambda x: 3 if x == 'positive' else (2 if x == 'neutral' else 1))\n",
    "df.head()"
   ]
  },
  {
   "cell_type": "markdown",
   "id": "e4ada218-e409-4dec-a4cf-f795ae8a8391",
   "metadata": {},
   "source": [
    "### Plot Rate"
   ]
  },
  {
   "cell_type": "code",
   "execution_count": 119,
   "id": "b7f3d743-2419-4652-a7c8-25eaaec73b1e",
   "metadata": {},
   "outputs": [
    {
     "data": {
      "text/plain": [
       "<Axes: xlabel='rating', ylabel='count'>"
      ]
     },
     "execution_count": 119,
     "metadata": {},
     "output_type": "execute_result"
    },
    {
     "data": {
      "image/png": "[encoded data removed]",
      "text/plain": [
       "<Figure size 640x480 with 1 Axes>"
      ]
     },
     "metadata": {},
     "output_type": "display_data"
    }
   ],
   "source": [
    "sns.set_style('whitegrid')\n",
    "sns.countplot(x='rating',data=df, palette='YlGnBu_r')"
   ]
  },
  {
   "cell_type": "markdown",
   "id": "36f75bde-a36d-4efc-8a67-0baebd4df42b",
   "metadata": {},
   "source": [
    "### Plot the Polarity Sentiment"
   ]
  },
  {
   "cell_type": "code",
   "execution_count": 120,
   "id": "96b18fcb-6ead-4760-8c2f-9d0211ff7af1",
   "metadata": {},
   "outputs": [
    {
     "data": {
      "text/plain": [
       "<Axes: xlabel='airline_sentiment', ylabel='count'>"
      ]
     },
     "execution_count": 120,
     "metadata": {},
     "output_type": "execute_result"
    },
    {
     "data": {
      "image/png": "[encoded data removed]",
      "text/plain": [
       "<Figure size 640x480 with 1 Axes>"
      ]
     },
     "metadata": {},
     "output_type": "display_data"
    }
   ],
   "source": [
    "sns.set_style('whitegrid')\n",
    "sns.countplot(x='airline_sentiment',data=df, palette='YlGnBu_r')"
   ]
  },
  {
   "cell_type": "markdown",
   "id": "7a9f07be-fe39-42ba-b589-bcccd7c3d429",
   "metadata": {},
   "source": [
    "### Data Preprocessing"
   ]
  },
  {
   "cell_type": "code",
   "execution_count": 121,
   "id": "736aad21-fffe-4ac5-ba54-e19dbc005569",
   "metadata": {},
   "outputs": [],
   "source": [
    "df_Positive = df[df['airline_sentiment'] == 'positive'][0:4880]\n",
    "df_Neutral = df[df['airline_sentiment'] == 'neutral']\n",
    "df_Negative = df[df['airline_sentiment'] == 'negative']"
   ]
  },
  {
   "cell_type": "markdown",
   "id": "cc964707-1e7d-4a99-ab56-0064e4e0d1f1",
   "metadata": {},
   "source": [
    "### Sample negative and neutral polarity dataset and create final dataframe"
   ]
  },
  {
   "cell_type": "code",
   "execution_count": 122,
   "id": "8c97331a-cd12-4931-b913-70b36809beb4",
   "metadata": {},
   "outputs": [],
   "source": [
    "df_Neutral_over = df_Neutral.sample(4880, replace=True)\n",
    "df_Negative_over = df_Negative.sample(4880, replace=True)\n",
    "df = pd.concat([df_Positive, df_Neutral_over, df_Negative_over], axis=0)"
   ]
  },
  {
   "cell_type": "code",
   "execution_count": 123,
   "id": "127c3ff0-dc9a-4f60-a266-2971b2e5f47d",
   "metadata": {},
   "outputs": [
    {
     "name": "stdout",
     "output_type": "stream",
     "text": [
      "Number of positive sentiments: 2363\n"
     ]
    }
   ],
   "source": [
    "sentiment_counts = df['airline_sentiment'].value_counts()\n",
    "\n",
    "# Get the count for positive sentiment\n",
    "positive_count = sentiment_counts.get('positive', 0)\n",
    "\n",
    "print(f\"Number of positive sentiments: {positive_count}\")"
   ]
  },
  {
   "cell_type": "markdown",
   "id": "699ff68d-544d-478e-8c82-78f74353ddbc",
   "metadata": {},
   "source": [
    "### Text Preprocessing"
   ]
  },
  {
   "cell_type": "code",
   "execution_count": 124,
   "id": "875351c3-938f-478c-96c9-c6c34f92f071",
   "metadata": {},
   "outputs": [],
   "source": [
    "def get_text_processing(text):\n",
    "    stpword = stopwords.words('english')\n",
    "    no_punctuation = [char for char in text if char not in string.punctuation]\n",
    "    no_punctuation = ''.join(no_punctuation)\n",
    "    return ' '.join([word for word in no_punctuation.split() if word.lower() not in stpword])"
   ]
  },
  {
   "cell_type": "markdown",
   "id": "58987058-d183-4b4a-9bed-d2316eac8c85",
   "metadata": {},
   "source": [
    "### Apply the method \"get_text_processing\" into column  text"
   ]
  },
  {
   "cell_type": "code",
   "execution_count": 125,
   "id": "4d908793-a2c2-4113-aee8-8fe888c180ba",
   "metadata": {},
   "outputs": [],
   "source": [
    "df['review'] = df['text'].apply(get_text_processing)"
   ]
  },
  {
   "cell_type": "code",
   "execution_count": 126,
   "id": "7e60cc3f-315c-4f33-b346-27032c3b09fd",
   "metadata": {},
   "outputs": [
    {
     "data": {
      "text/html": [
       "<div>\n",
       "<style scoped>\n",
       "    .dataframe tbody tr th:only-of-type {\n",
       "        vertical-align: middle;\n",
       "    }\n",
       "\n",
       "    .dataframe tbody tr th {\n",
       "        vertical-align: top;\n",
       "    }\n",
       "\n",
       "    .dataframe thead th {\n",
       "        text-align: right;\n",
       "    }\n",
       "</style>\n",
       "<table border=\"1\" class=\"dataframe\">\n",
       "  <thead>\n",
       "    <tr style=\"text-align: right;\">\n",
       "      <th></th>\n",
       "      <th>review</th>\n",
       "      <th>airline_sentiment</th>\n",
       "    </tr>\n",
       "  </thead>\n",
       "  <tbody>\n",
       "    <tr>\n",
       "      <th>1</th>\n",
       "      <td>VirginAmerica plus youve added commercials exp...</td>\n",
       "      <td>positive</td>\n",
       "    </tr>\n",
       "    <tr>\n",
       "      <th>6</th>\n",
       "      <td>VirginAmerica yes nearly every time fly VX “ea...</td>\n",
       "      <td>positive</td>\n",
       "    </tr>\n",
       "    <tr>\n",
       "      <th>8</th>\n",
       "      <td>virginamerica Well didnt…but</td>\n",
       "      <td>positive</td>\n",
       "    </tr>\n",
       "    <tr>\n",
       "      <th>9</th>\n",
       "      <td>VirginAmerica amazing arrived hour early Youre...</td>\n",
       "      <td>positive</td>\n",
       "    </tr>\n",
       "    <tr>\n",
       "      <th>11</th>\n",
       "      <td>VirginAmerica lt3 pretty graphics much better ...</td>\n",
       "      <td>positive</td>\n",
       "    </tr>\n",
       "  </tbody>\n",
       "</table>\n",
       "</div>"
      ],
      "text/plain": [
       "                                               review airline_sentiment\n",
       "1   VirginAmerica plus youve added commercials exp...          positive\n",
       "6   VirginAmerica yes nearly every time fly VX “ea...          positive\n",
       "8                        virginamerica Well didnt…but          positive\n",
       "9   VirginAmerica amazing arrived hour early Youre...          positive\n",
       "11  VirginAmerica lt3 pretty graphics much better ...          positive"
      ]
     },
     "execution_count": 126,
     "metadata": {},
     "output_type": "execute_result"
    }
   ],
   "source": [
    "df = df[['review', 'airline_sentiment']]\n",
    "df.head()"
   ]
  },
  {
   "cell_type": "markdown",
   "id": "6a4f5c75-c74e-4dea-b8e9-14c207bd296e",
   "metadata": {},
   "source": [
    "### Apply One hot encoding on negative, neutral, and positive"
   ]
  },
  {
   "cell_type": "code",
   "execution_count": 127,
   "id": "ff07c2cd-1733-4569-901c-d79f6dbccea3",
   "metadata": {},
   "outputs": [
    {
     "data": {
      "text/html": [
       "<div>\n",
       "<style scoped>\n",
       "    .dataframe tbody tr th:only-of-type {\n",
       "        vertical-align: middle;\n",
       "    }\n",
       "\n",
       "    .dataframe tbody tr th {\n",
       "        vertical-align: top;\n",
       "    }\n",
       "\n",
       "    .dataframe thead th {\n",
       "        text-align: right;\n",
       "    }\n",
       "</style>\n",
       "<table border=\"1\" class=\"dataframe\">\n",
       "  <thead>\n",
       "    <tr style=\"text-align: right;\">\n",
       "      <th></th>\n",
       "      <th>review</th>\n",
       "      <th>negative</th>\n",
       "      <th>neutral</th>\n",
       "      <th>positive</th>\n",
       "    </tr>\n",
       "  </thead>\n",
       "  <tbody>\n",
       "    <tr>\n",
       "      <th>1</th>\n",
       "      <td>VirginAmerica plus youve added commercials exp...</td>\n",
       "      <td>False</td>\n",
       "      <td>False</td>\n",
       "      <td>True</td>\n",
       "    </tr>\n",
       "    <tr>\n",
       "      <th>6</th>\n",
       "      <td>VirginAmerica yes nearly every time fly VX “ea...</td>\n",
       "      <td>False</td>\n",
       "      <td>False</td>\n",
       "      <td>True</td>\n",
       "    </tr>\n",
       "    <tr>\n",
       "      <th>8</th>\n",
       "      <td>virginamerica Well didnt…but</td>\n",
       "      <td>False</td>\n",
       "      <td>False</td>\n",
       "      <td>True</td>\n",
       "    </tr>\n",
       "    <tr>\n",
       "      <th>9</th>\n",
       "      <td>VirginAmerica amazing arrived hour early Youre...</td>\n",
       "      <td>False</td>\n",
       "      <td>False</td>\n",
       "      <td>True</td>\n",
       "    </tr>\n",
       "    <tr>\n",
       "      <th>11</th>\n",
       "      <td>VirginAmerica lt3 pretty graphics much better ...</td>\n",
       "      <td>False</td>\n",
       "      <td>False</td>\n",
       "      <td>True</td>\n",
       "    </tr>\n",
       "  </tbody>\n",
       "</table>\n",
       "</div>"
      ],
      "text/plain": [
       "                                               review  negative  neutral  \\\n",
       "1   VirginAmerica plus youve added commercials exp...     False    False   \n",
       "6   VirginAmerica yes nearly every time fly VX “ea...     False    False   \n",
       "8                        virginamerica Well didnt…but     False    False   \n",
       "9   VirginAmerica amazing arrived hour early Youre...     False    False   \n",
       "11  VirginAmerica lt3 pretty graphics much better ...     False    False   \n",
       "\n",
       "    positive  \n",
       "1       True  \n",
       "6       True  \n",
       "8       True  \n",
       "9       True  \n",
       "11      True  "
      ]
     },
     "execution_count": 127,
     "metadata": {},
     "output_type": "execute_result"
    }
   ],
   "source": [
    "one_hot = pd.get_dummies(df[\"airline_sentiment\"])\n",
    "df.drop(['airline_sentiment'],axis=1,inplace=True)\n",
    "df = pd.concat([df,one_hot],axis=1)\n",
    "df.head()"
   ]
  },
  {
   "cell_type": "code",
   "execution_count": 128,
   "id": "4484a77e-2c63-4ed9-b470-674e78a2d9cf",
   "metadata": {},
   "outputs": [
    {
     "name": "stdout",
     "output_type": "stream",
     "text": [
      "<class 'pandas.core.frame.DataFrame'>\n",
      "Index: 12123 entries, 1 to 1618\n",
      "Data columns (total 4 columns):\n",
      " #   Column    Non-Null Count  Dtype \n",
      "---  ------    --------------  ----- \n",
      " 0   review    12123 non-null  object\n",
      " 1   negative  12123 non-null  bool  \n",
      " 2   neutral   12123 non-null  bool  \n",
      " 3   positive  12123 non-null  bool  \n",
      "dtypes: bool(3), object(1)\n",
      "memory usage: 224.9+ KB\n"
     ]
    }
   ],
   "source": [
    "df.info()"
   ]
  },
  {
   "cell_type": "markdown",
   "id": "d05637ad-1d02-42ea-8621-15bd20e67b86",
   "metadata": {},
   "source": [
    "### Apply Train Test Split"
   ]
  },
  {
   "cell_type": "code",
   "execution_count": 129,
   "id": "95304dc1-5325-43be-a06a-53a2fbe6fec1",
   "metadata": {},
   "outputs": [],
   "source": [
    "X = df['review'].values\n",
    "y = df.drop('review', axis=1).values\n",
    "X_train, X_test, y_train, y_test = train_test_split(X, y, test_size=0.30, random_state=42)"
   ]
  },
  {
   "cell_type": "markdown",
   "id": "3d0bb4fe-7482-4265-a5a9-c460e78272dd",
   "metadata": {},
   "source": [
    "### Apply vectorization"
   ]
  },
  {
   "cell_type": "code",
   "execution_count": 130,
   "id": "1a85b8af-b726-4977-a4c1-2c56b2706ad8",
   "metadata": {},
   "outputs": [],
   "source": [
    "vect = CountVectorizer()\n",
    "X_train = vect.fit_transform(X_train)\n",
    "X_test = vect.transform(X_test)"
   ]
  },
  {
   "cell_type": "markdown",
   "id": "7cc1880b-0aa8-4f0c-a419-38be1bc58b74",
   "metadata": {},
   "source": [
    "### Apply frequency, inverse document frequency:"
   ]
  },
  {
   "cell_type": "code",
   "execution_count": 131,
   "id": "2329288a-9791-40e1-a36a-13c0f4fbe095",
   "metadata": {},
   "outputs": [],
   "source": [
    "tfidf = TfidfTransformer()\n",
    "X_train = tfidf.fit_transform(X_train)\n",
    "X_test = tfidf.transform(X_test)\n",
    "X_train = X_train.toarray()\n",
    "X_test = X_test.toarray()"
   ]
  },
  {
   "cell_type": "markdown",
   "id": "7bacc97b-5c70-4252-a66a-dcc5647fef08",
   "metadata": {},
   "source": [
    "### Add different layers"
   ]
  },
  {
   "cell_type": "code",
   "execution_count": 132,
   "id": "7953d39f-e823-4099-bb7c-a3c1c88c0796",
   "metadata": {},
   "outputs": [],
   "source": [
    "model = Sequential()\n",
    "\n",
    "model.add(Dense(units=12673,activation='relu'))\n",
    "model.add(Dropout(0.5))\n",
    "\n",
    "model.add(Dense(units=4000,activation='relu'))\n",
    "model.add(Dropout(0.5))\n",
    "\n",
    "model.add(Dense(units=500,activation='relu'))\n",
    "model.add(Dropout(0.5))\n",
    "\n",
    "model.add(Dense(units=3, activation='softmax'))\n",
    "\n",
    "opt=tf.keras.optimizers.Adam(learning_rate=0.001)\n",
    "model.compile(loss='categorical_crossentropy', optimizer=opt, metrics=['accuracy'])\n",
    "early_stop = EarlyStopping(monitor='val_loss', mode='min', verbose=1, patience=2)"
   ]
  },
  {
   "cell_type": "markdown",
   "id": "9652e163-5a02-48c4-909e-0fa0abe2d221",
   "metadata": {},
   "source": [
    "### Fit the Model"
   ]
  },
  {
   "cell_type": "code",
   "execution_count": 134,
   "id": "d4fdc9aa-5fa8-4851-a4c2-7d3a315eceb4",
   "metadata": {
    "scrolled": true
   },
   "outputs": [
    {
     "name": "stdout",
     "output_type": "stream",
     "text": [
      "Epoch 1/10\n",
      "\u001b[1m34/34\u001b[0m \u001b[32m━━━━━━━━━━━━━━━━━━━━\u001b[0m\u001b[37m\u001b[0m \u001b[1m466s\u001b[0m 13s/step - accuracy: 0.5455 - loss: 0.8891 - val_accuracy: 0.8243 - val_loss: 0.4761\n",
      "Epoch 2/10\n",
      "\u001b[1m34/34\u001b[0m \u001b[32m━━━━━━━━━━━━━━━━━━━━\u001b[0m\u001b[37m\u001b[0m \u001b[1m498s\u001b[0m 13s/step - accuracy: 0.9404 - loss: 0.1997 - val_accuracy: 0.8389 - val_loss: 0.4906\n",
      "Epoch 3/10\n",
      "\u001b[1m34/34\u001b[0m \u001b[32m━━━━━━━━━━━━━━━━━━━━\u001b[0m\u001b[37m\u001b[0m \u001b[1m457s\u001b[0m 14s/step - accuracy: 0.9838 - loss: 0.0557 - val_accuracy: 0.8323 - val_loss: 0.6778\n",
      "Epoch 3: early stopping\n"
     ]
    },
    {
     "data": {
      "text/plain": [
       "<keras.src.callbacks.history.History at 0x2dcf05193d0>"
      ]
     },
     "execution_count": 134,
     "metadata": {},
     "output_type": "execute_result"
    }
   ],
   "source": [
    "model.fit(x=X_train, y=y_train, batch_size=256, epochs=10, validation_data=(X_test, y_test), verbose=1, callbacks=early_stop)"
   ]
  },
  {
   "cell_type": "markdown",
   "id": "01566cf9-62e8-4760-8d05-346e98246c37",
   "metadata": {},
   "source": [
    "We can see that accuracy is increasing and loss is decreasing"
   ]
  },
  {
   "cell_type": "markdown",
   "id": "705edafe-9a99-4a3e-bb7d-303813efae68",
   "metadata": {},
   "source": [
    "### Evaluation of Model"
   ]
  },
  {
   "cell_type": "code",
   "execution_count": 135,
   "id": "9f2c50d9-1a5a-4ee9-9470-0154f461ae69",
   "metadata": {},
   "outputs": [
    {
     "name": "stdout",
     "output_type": "stream",
     "text": [
      "\u001b[1m57/57\u001b[0m \u001b[32m━━━━━━━━━━━━━━━━━━━━\u001b[0m\u001b[37m\u001b[0m \u001b[1m96s\u001b[0m 2s/step - accuracy: 0.8333 - loss: 0.6468\n",
      "Test accuracy: 0.8322793245315552\n"
     ]
    }
   ],
   "source": [
    "model_score = model.evaluate(X_test, y_test, batch_size=64, verbose=1)\n",
    "print('Test accuracy:', model_score[1])"
   ]
  },
  {
   "cell_type": "markdown",
   "id": "ba407314-d9ac-4a5f-80e3-c5ab6ce9bc05",
   "metadata": {},
   "source": [
    "### Prediction"
   ]
  },
  {
   "cell_type": "code",
   "execution_count": 136,
   "id": "7355f3e8-e518-449d-a2d3-5f9abd85ed5c",
   "metadata": {},
   "outputs": [
    {
     "name": "stdout",
     "output_type": "stream",
     "text": [
      "\u001b[1m114/114\u001b[0m \u001b[32m━━━━━━━━━━━━━━━━━━━━\u001b[0m\u001b[37m\u001b[0m \u001b[1m102s\u001b[0m 892ms/step\n"
     ]
    },
    {
     "data": {
      "text/plain": [
       "array([[3.58162943e-04, 9.99146819e-01, 4.94990265e-04],\n",
       "       [2.53977312e-04, 5.63454330e-02, 9.43400621e-01],\n",
       "       [3.27999797e-03, 8.87004316e-01, 1.09715685e-01],\n",
       "       ...,\n",
       "       [9.99992847e-01, 6.38243546e-06, 7.36549282e-07],\n",
       "       [1.32920823e-05, 1.73644498e-01, 8.26342225e-01],\n",
       "       [9.16453302e-01, 8.03785212e-03, 7.55087957e-02]], dtype=float32)"
      ]
     },
     "execution_count": 136,
     "metadata": {},
     "output_type": "execute_result"
    }
   ],
   "source": [
    "preds = model.predict(X_test)\n",
    "preds"
   ]
  },
  {
   "cell_type": "markdown",
   "id": "32e7b9c6-3bc8-4b81-ac33-65d2f2e6c6a8",
   "metadata": {},
   "source": [
    "### Conclusion"
   ]
  },
  {
   "cell_type": "markdown",
   "id": "db47050b-fd29-4d00-9bc9-3701280e0c78",
   "metadata": {},
   "source": [
    "Final Evaluation on Test Data\n",
    "Test Accuracy: 83.23%\n",
    "Test Loss: 0.6468\n",
    "Predictions Analysis\n",
    "The model's predictions on the test set (preds) are probability distributions over three classes, where each row corresponds to the predicted probabilities for a single sample. Here's a brief analysis:\n",
    "\n",
    "The first prediction is [3.58162943e-04, 9.99146819e-01, 4.94990265e-04], indicating a high probability (approximately 99.91%) for the second class.\n",
    "The second prediction is [2.53977312e-04, 5.63454330e-02, 9.43400621e-01], showing a high probability (approximately 94.34%) for the third class.\n",
    "Similarly, other predictions indicate high confidence in one of the classes, with probabilities close to 1 for one class and near 0 for others.\n",
    "Summary\n",
    "Training: The model improved rapidly in training accuracy, reaching 98.38% by the third epoch. However, the validation accuracy plateaued around 83%, and validation loss increased in the third epoch, suggesting overfitting.\n",
    "Early Stopping: The model likely stopped early due to increasing validation loss, indicating it couldn't generalize better with further training.\n",
    "Test Performance: The model performed well on the test set with an accuracy of 83.23%, consistent with the validation performance.\n",
    "Predictions: The predictions show high confidence for specific classes, indicating the model's ability to distinguish between classes effectively."
   ]
  },
  {
   "cell_type": "markdown",
   "id": "2a464694-fee5-4ffa-b329-2af0d55131f2",
   "metadata": {},
   "source": [
    "# References"
   ]
  },
  {
   "cell_type": "markdown",
   "id": "a19a2d0d-da91-47c4-a586-08ad649e4a0f",
   "metadata": {},
   "source": [
    "Kartikay Goyle. (2023, p.1) A Machine Learning Approach [Online] Available at:\n",
    "\r",
    "https://arxiv.org/pdf/2307.07119\r",
    "[Accessed 17 May 2024].\n",
    "\n",
    "El Naqa and Murphy (2015) What is machine learning? [Online] Available at: \n",
    "https://www.researchgate.net/publication/324568763_Machine_Learning_in_Radiation_Oncology_Opportunities_Requirements_and_Needs [Accessed 18 May 2024].\n",
    "\n",
    "Drew Jamieson (2022) Simple lessons from complex learning: what a neural\r\n",
    "network model learns Available at: https://arxiv.org/pdf/2206.04573k\n",
    "\n",
    " [Accessed 30 May 2024]..\r\n",
    "\n"
   ]
  }
 ],
 "metadata": {
  "kernelspec": {
   "display_name": "Python 3 (ipykernel)",
   "language": "python",
   "name": "python3"
  },
  "language_info": {
   "codemirror_mode": {
    "name": "ipython",
    "version": 3
   },
   "file_extension": ".py",
   "mimetype": "text/x-python",
   "name": "python",
   "nbconvert_exporter": "python",
   "pygments_lexer": "ipython3",
   "version": "3.11.7"
  },
  "toc": {
   "base_numbering": 1,
   "nav_menu": {},
   "number_sections": true,
   "sideBar": false,
   "skip_h1_title": false,
   "title_cell": "Table of Contents",
   "title_sidebar": "Contents",
   "toc_cell": false,
   "toc_position": {
    "height": "421.594px",
    "left": "30px",
    "top": "111.125px",
    "width": "309.688px"
   },
   "toc_section_display": true,
   "toc_window_display": false
  }
 },
 "nbformat": 4,
 "nbformat_minor": 5
}
